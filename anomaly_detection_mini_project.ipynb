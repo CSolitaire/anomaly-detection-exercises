{
 "cells": [
  {
   "cell_type": "markdown",
   "metadata": {},
   "source": [
    "### Anomaly Detection Mini Project\n",
    "#### Corey Solitaire\n",
    "`11.09.2020`"
   ]
  },
  {
   "cell_type": "markdown",
   "metadata": {},
   "source": [
    "<div class=\"alert alert-block alert-info\"><b></b></div>"
   ]
  },
  {
   "cell_type": "markdown",
   "metadata": {},
   "source": [
    "#### Imports:"
   ]
  },
  {
   "cell_type": "code",
   "execution_count": 1,
   "metadata": {},
   "outputs": [],
   "source": [
    "\n",
    "import wrangle\n",
    "import explore\n",
    "import numpy as np\n",
    "import pandas as pd\n",
    "import math\n",
    "from sklearn import metrics\n",
    "\n",
    "from scipy.stats import entropy\n",
    "\n",
    "import warnings\n",
    "warnings.filterwarnings(\"ignore\")\n",
    "import matplotlib.pyplot as plt\n",
    "import matplotlib.dates as mdates #to format dates on our plots\n",
    "import seaborn as sns\n",
    "\n",
    "# This is to make sure matplotlib doesn't throw the following error:\n",
    "# The next line fixes \"TypeError: float() argument must be a string or a number, not 'Timestamp' matplotlib\"\n",
    "pd.plotting.register_matplotlib_converters()"
   ]
  },
  {
   "cell_type": "markdown",
   "metadata": {},
   "source": [
    "<div class=\"alert alert-block alert-info\"><b></b></div>"
   ]
  },
  {
   "cell_type": "markdown",
   "metadata": {},
   "source": [
    "### Import wrangle df:"
   ]
  },
  {
   "cell_type": "code",
   "execution_count": 2,
   "metadata": {},
   "outputs": [
    {
     "data": {
      "text/html": [
       "<div>\n",
       "<style scoped>\n",
       "    .dataframe tbody tr th:only-of-type {\n",
       "        vertical-align: middle;\n",
       "    }\n",
       "\n",
       "    .dataframe tbody tr th {\n",
       "        vertical-align: top;\n",
       "    }\n",
       "\n",
       "    .dataframe thead th {\n",
       "        text-align: right;\n",
       "    }\n",
       "</style>\n",
       "<table border=\"1\" class=\"dataframe\">\n",
       "  <thead>\n",
       "    <tr style=\"text-align: right;\">\n",
       "      <th></th>\n",
       "      <th>page_viewed</th>\n",
       "      <th>user_id</th>\n",
       "      <th>cohort_id</th>\n",
       "      <th>ip</th>\n",
       "      <th>year</th>\n",
       "      <th>month</th>\n",
       "      <th>day</th>\n",
       "      <th>hour</th>\n",
       "      <th>weekday</th>\n",
       "      <th>int_ip</th>\n",
       "    </tr>\n",
       "    <tr>\n",
       "      <th>datetime</th>\n",
       "      <th></th>\n",
       "      <th></th>\n",
       "      <th></th>\n",
       "      <th></th>\n",
       "      <th></th>\n",
       "      <th></th>\n",
       "      <th></th>\n",
       "      <th></th>\n",
       "      <th></th>\n",
       "      <th></th>\n",
       "    </tr>\n",
       "  </thead>\n",
       "  <tbody>\n",
       "    <tr>\n",
       "      <th>2018-01-26 09:55:03</th>\n",
       "      <td>/</td>\n",
       "      <td>1</td>\n",
       "      <td>8</td>\n",
       "      <td>97.105.19.61</td>\n",
       "      <td>2018</td>\n",
       "      <td>1</td>\n",
       "      <td>26</td>\n",
       "      <td>9</td>\n",
       "      <td>Friday</td>\n",
       "      <td>1634276157</td>\n",
       "    </tr>\n",
       "  </tbody>\n",
       "</table>\n",
       "</div>"
      ],
      "text/plain": [
       "                    page_viewed user_id cohort_id            ip  year month  \\\n",
       "datetime                                                                      \n",
       "2018-01-26 09:55:03           /       1         8  97.105.19.61  2018     1   \n",
       "\n",
       "                    day hour weekday      int_ip  \n",
       "datetime                                          \n",
       "2018-01-26 09:55:03  26    9  Friday  1634276157  "
      ]
     },
     "execution_count": 2,
     "metadata": {},
     "output_type": "execute_result"
    }
   ],
   "source": [
    "df = wrangle.read_csv()\n",
    "df = wrangle.wrangle_df(df)\n",
    "df.head(1)"
   ]
  },
  {
   "cell_type": "code",
   "execution_count": 3,
   "metadata": {},
   "outputs": [
    {
     "data": {
      "text/html": [
       "<div>\n",
       "<style scoped>\n",
       "    .dataframe tbody tr th:only-of-type {\n",
       "        vertical-align: middle;\n",
       "    }\n",
       "\n",
       "    .dataframe tbody tr th {\n",
       "        vertical-align: top;\n",
       "    }\n",
       "\n",
       "    .dataframe thead th {\n",
       "        text-align: right;\n",
       "    }\n",
       "</style>\n",
       "<table border=\"1\" class=\"dataframe\">\n",
       "  <thead>\n",
       "    <tr style=\"text-align: right;\">\n",
       "      <th></th>\n",
       "      <th>page_viewed</th>\n",
       "      <th>user_id</th>\n",
       "      <th>cohort_id</th>\n",
       "      <th>ip</th>\n",
       "      <th>year</th>\n",
       "      <th>month</th>\n",
       "      <th>day</th>\n",
       "      <th>hour</th>\n",
       "      <th>weekday</th>\n",
       "      <th>int_ip</th>\n",
       "    </tr>\n",
       "    <tr>\n",
       "      <th>datetime</th>\n",
       "      <th></th>\n",
       "      <th></th>\n",
       "      <th></th>\n",
       "      <th></th>\n",
       "      <th></th>\n",
       "      <th></th>\n",
       "      <th></th>\n",
       "      <th></th>\n",
       "      <th></th>\n",
       "      <th></th>\n",
       "    </tr>\n",
       "  </thead>\n",
       "  <tbody>\n",
       "    <tr>\n",
       "      <th>2020-11-02 16:48:47</th>\n",
       "      <td>javascript-i/bom-and-dom/bom</td>\n",
       "      <td>763</td>\n",
       "      <td>62</td>\n",
       "      <td>107.192.148.199</td>\n",
       "      <td>2020</td>\n",
       "      <td>11</td>\n",
       "      <td>2</td>\n",
       "      <td>16</td>\n",
       "      <td>Monday</td>\n",
       "      <td>1807783111</td>\n",
       "    </tr>\n",
       "  </tbody>\n",
       "</table>\n",
       "</div>"
      ],
      "text/plain": [
       "                                      page_viewed user_id cohort_id  \\\n",
       "datetime                                                              \n",
       "2020-11-02 16:48:47  javascript-i/bom-and-dom/bom     763        62   \n",
       "\n",
       "                                  ip  year month day hour weekday      int_ip  \n",
       "datetime                                                                       \n",
       "2020-11-02 16:48:47  107.192.148.199  2020    11   2   16  Monday  1807783111  "
      ]
     },
     "execution_count": 3,
     "metadata": {},
     "output_type": "execute_result"
    }
   ],
   "source": [
    "df.tail(1)"
   ]
  },
  {
   "cell_type": "code",
   "execution_count": 4,
   "metadata": {},
   "outputs": [
    {
     "name": "stdout",
     "output_type": "stream",
     "text": [
      "<class 'pandas.core.frame.DataFrame'>\n",
      "DatetimeIndex: 719459 entries, 2018-01-26 09:55:03 to 2020-11-02 16:48:47\n",
      "Data columns (total 10 columns):\n",
      " #   Column       Non-Null Count   Dtype \n",
      "---  ------       --------------   ----- \n",
      " 0   page_viewed  719458 non-null  object\n",
      " 1   user_id      719459 non-null  object\n",
      " 2   cohort_id    674619 non-null  object\n",
      " 3   ip           719459 non-null  object\n",
      " 4   year         719459 non-null  object\n",
      " 5   month        719459 non-null  object\n",
      " 6   day          719459 non-null  object\n",
      " 7   hour         719459 non-null  object\n",
      " 8   weekday      719459 non-null  object\n",
      " 9   int_ip       719459 non-null  int64 \n",
      "dtypes: int64(1), object(9)\n",
      "memory usage: 60.4+ MB\n"
     ]
    }
   ],
   "source": [
    "df.info()"
   ]
  },
  {
   "cell_type": "code",
   "execution_count": 5,
   "metadata": {},
   "outputs": [
    {
     "data": {
      "text/plain": [
       "[nan,\n",
       " 62.0,\n",
       " 61.0,\n",
       " 59.0,\n",
       " 58.0,\n",
       " 57.0,\n",
       " 56.0,\n",
       " 55.0,\n",
       " 53.0,\n",
       " 52.0,\n",
       " 51.0,\n",
       " 34.0,\n",
       " 33.0,\n",
       " 32.0,\n",
       " 31.0,\n",
       " 29.0,\n",
       " 28.0,\n",
       " 27.0,\n",
       " 26.0,\n",
       " 25.0,\n",
       " 24.0,\n",
       " 23.0,\n",
       " 22.0,\n",
       " 21.0,\n",
       " 19.0,\n",
       " 18.0,\n",
       " 17.0,\n",
       " 16.0,\n",
       " 15.0,\n",
       " 14.0,\n",
       " 13.0,\n",
       " 12.0,\n",
       " 11.0,\n",
       " 9.0,\n",
       " 8.0,\n",
       " 7.0,\n",
       " 6.0,\n",
       " 5.0,\n",
       " 4.0,\n",
       " 2.0,\n",
       " 1.0]"
      ]
     },
     "execution_count": 5,
     "metadata": {},
     "output_type": "execute_result"
    }
   ],
   "source": [
    "cohort_id = df.cohort_id.unique().tolist()\n",
    "sorted(cohort_id, reverse = True)"
   ]
  },
  {
   "cell_type": "markdown",
   "metadata": {},
   "source": [
    "`Explore Missing user_id Further`"
   ]
  },
  {
   "cell_type": "markdown",
   "metadata": {},
   "source": [
    "<div class=\"alert alert-block alert-info\"><b></b></div>"
   ]
  },
  {
   "cell_type": "markdown",
   "metadata": {},
   "source": [
    "# Questions to Answer:\n",
    "****\n",
    "  1. Which lesson appears to attract the most traffic consistently across cohorts (per program)?\n",
    "\n",
    "\n",
    "  2. Is there a cohort that referred to a lesson significantly more that other cohorts seemed to gloss over? \n",
    "\n",
    "\n",
    "  3. Are there students who, when active, hardly access the curriculum? If so, what information do you have about these students? \n",
    "\n",
    "\n",
    "  4. Is there any suspicious activity, such as users/machines/etc accessing the curriculum who shouldn’t be? Does it appear that any web-scraping is happening? Are there any suspicious IP addresses? Any odd user-agents? \n",
    "\n",
    "\n",
    "  5. At some point in the last year, ability for students and alumni to cross-access curriculum (web dev to ds, ds to web dev) should have been shut off. Do you see any evidence of that happening? Did it happen before? \n",
    "\n",
    "\n",
    "  6. What topics are grads continuing to reference after graduation and into their jobs (for each program)? \n",
    "\n",
    "\n",
    "  7. Which lessons are least accessed? \n",
    "\n",
    "\n",
    "  8. Anything else I should be aware of? "
   ]
  },
  {
   "cell_type": "markdown",
   "metadata": {},
   "source": [
    "<div class=\"alert alert-block alert-info\"><b></b></div>"
   ]
  },
  {
   "cell_type": "markdown",
   "metadata": {},
   "source": [
    "## First Step is to ID Cohorts:\n",
    "\n",
    "explore.cohort_id(df, year, month, day, hour)\n",
    "***"
   ]
  },
  {
   "cell_type": "code",
   "execution_count": 6,
   "metadata": {},
   "outputs": [],
   "source": [
    "# 21,Sequoia,2017-09-27,2018-02-15,2\n",
    "# Cohort ID #21 I think"
   ]
  },
  {
   "cell_type": "code",
   "execution_count": 7,
   "metadata": {},
   "outputs": [],
   "source": [
    "# 22,Teddy,2018-01-08,2018-05-17,2 \n",
    "# test = explore.cohort_id(df,2018,1,26,10)\n",
    "# test.head()"
   ]
  },
  {
   "cell_type": "markdown",
   "metadata": {},
   "source": [
    "#### Cohort Teddy"
   ]
  },
  {
   "cell_type": "code",
   "execution_count": 8,
   "metadata": {},
   "outputs": [
    {
     "data": {
      "text/plain": [
       "35"
      ]
     },
     "execution_count": 8,
     "metadata": {},
     "output_type": "execute_result"
    }
   ],
   "source": [
    "teddy = df[df.cohort_id == 22]\n",
    "len(teddy.user_id.unique())"
   ]
  },
  {
   "cell_type": "code",
   "execution_count": 9,
   "metadata": {},
   "outputs": [
    {
     "data": {
      "text/html": [
       "<div>\n",
       "<style scoped>\n",
       "    .dataframe tbody tr th:only-of-type {\n",
       "        vertical-align: middle;\n",
       "    }\n",
       "\n",
       "    .dataframe tbody tr th {\n",
       "        vertical-align: top;\n",
       "    }\n",
       "\n",
       "    .dataframe thead th {\n",
       "        text-align: right;\n",
       "    }\n",
       "</style>\n",
       "<table border=\"1\" class=\"dataframe\">\n",
       "  <thead>\n",
       "    <tr style=\"text-align: right;\">\n",
       "      <th></th>\n",
       "      <th>page_viewed</th>\n",
       "      <th>user_id</th>\n",
       "      <th>cohort_id</th>\n",
       "      <th>ip</th>\n",
       "      <th>year</th>\n",
       "      <th>month</th>\n",
       "      <th>day</th>\n",
       "      <th>hour</th>\n",
       "      <th>weekday</th>\n",
       "      <th>int_ip</th>\n",
       "    </tr>\n",
       "    <tr>\n",
       "      <th>datetime</th>\n",
       "      <th></th>\n",
       "      <th></th>\n",
       "      <th></th>\n",
       "      <th></th>\n",
       "      <th></th>\n",
       "      <th></th>\n",
       "      <th></th>\n",
       "      <th></th>\n",
       "      <th></th>\n",
       "      <th></th>\n",
       "    </tr>\n",
       "  </thead>\n",
       "  <tbody>\n",
       "    <tr>\n",
       "      <th>2018-01-26 09:56:24</th>\n",
       "      <td>javascript-i/conditionals</td>\n",
       "      <td>2</td>\n",
       "      <td>22</td>\n",
       "      <td>97.105.19.61</td>\n",
       "      <td>2018</td>\n",
       "      <td>1</td>\n",
       "      <td>26</td>\n",
       "      <td>9</td>\n",
       "      <td>Friday</td>\n",
       "      <td>1634276157</td>\n",
       "    </tr>\n",
       "    <tr>\n",
       "      <th>2018-01-26 09:56:41</th>\n",
       "      <td>javascript-i/loops</td>\n",
       "      <td>2</td>\n",
       "      <td>22</td>\n",
       "      <td>97.105.19.61</td>\n",
       "      <td>2018</td>\n",
       "      <td>1</td>\n",
       "      <td>26</td>\n",
       "      <td>9</td>\n",
       "      <td>Friday</td>\n",
       "      <td>1634276157</td>\n",
       "    </tr>\n",
       "    <tr>\n",
       "      <th>2018-01-26 09:56:46</th>\n",
       "      <td>javascript-i/conditionals</td>\n",
       "      <td>3</td>\n",
       "      <td>22</td>\n",
       "      <td>97.105.19.61</td>\n",
       "      <td>2018</td>\n",
       "      <td>1</td>\n",
       "      <td>26</td>\n",
       "      <td>9</td>\n",
       "      <td>Friday</td>\n",
       "      <td>1634276157</td>\n",
       "    </tr>\n",
       "    <tr>\n",
       "      <th>2018-01-26 09:56:48</th>\n",
       "      <td>javascript-i/functions</td>\n",
       "      <td>3</td>\n",
       "      <td>22</td>\n",
       "      <td>97.105.19.61</td>\n",
       "      <td>2018</td>\n",
       "      <td>1</td>\n",
       "      <td>26</td>\n",
       "      <td>9</td>\n",
       "      <td>Friday</td>\n",
       "      <td>1634276157</td>\n",
       "    </tr>\n",
       "    <tr>\n",
       "      <th>2018-01-26 09:56:59</th>\n",
       "      <td>javascript-i/loops</td>\n",
       "      <td>2</td>\n",
       "      <td>22</td>\n",
       "      <td>97.105.19.61</td>\n",
       "      <td>2018</td>\n",
       "      <td>1</td>\n",
       "      <td>26</td>\n",
       "      <td>9</td>\n",
       "      <td>Friday</td>\n",
       "      <td>1634276157</td>\n",
       "    </tr>\n",
       "  </tbody>\n",
       "</table>\n",
       "</div>"
      ],
      "text/plain": [
       "                                   page_viewed user_id cohort_id  \\\n",
       "datetime                                                           \n",
       "2018-01-26 09:56:24  javascript-i/conditionals       2        22   \n",
       "2018-01-26 09:56:41         javascript-i/loops       2        22   \n",
       "2018-01-26 09:56:46  javascript-i/conditionals       3        22   \n",
       "2018-01-26 09:56:48     javascript-i/functions       3        22   \n",
       "2018-01-26 09:56:59         javascript-i/loops       2        22   \n",
       "\n",
       "                               ip  year month day hour weekday      int_ip  \n",
       "datetime                                                                    \n",
       "2018-01-26 09:56:24  97.105.19.61  2018     1  26    9  Friday  1634276157  \n",
       "2018-01-26 09:56:41  97.105.19.61  2018     1  26    9  Friday  1634276157  \n",
       "2018-01-26 09:56:46  97.105.19.61  2018     1  26    9  Friday  1634276157  \n",
       "2018-01-26 09:56:48  97.105.19.61  2018     1  26    9  Friday  1634276157  \n",
       "2018-01-26 09:56:59  97.105.19.61  2018     1  26    9  Friday  1634276157  "
      ]
     },
     "execution_count": 9,
     "metadata": {},
     "output_type": "execute_result"
    }
   ],
   "source": [
    "teddy.head()"
   ]
  },
  {
   "cell_type": "code",
   "execution_count": 10,
   "metadata": {},
   "outputs": [],
   "source": [
    "# 23,Ulysses,2018-03-05,2018-07-19,2\n",
    "# test = explore.cohort_id(df,2018,3,5,10)\n",
    "# test.head()"
   ]
  },
  {
   "cell_type": "markdown",
   "metadata": {},
   "source": [
    "#### Cohort Ulysses"
   ]
  },
  {
   "cell_type": "code",
   "execution_count": 11,
   "metadata": {},
   "outputs": [
    {
     "data": {
      "text/plain": [
       "33"
      ]
     },
     "execution_count": 11,
     "metadata": {},
     "output_type": "execute_result"
    }
   ],
   "source": [
    "ulysses = df[df.cohort_id == 23]\n",
    "len(ulysses.user_id.unique())"
   ]
  },
  {
   "cell_type": "code",
   "execution_count": 12,
   "metadata": {},
   "outputs": [
    {
     "data": {
      "text/html": [
       "<div>\n",
       "<style scoped>\n",
       "    .dataframe tbody tr th:only-of-type {\n",
       "        vertical-align: middle;\n",
       "    }\n",
       "\n",
       "    .dataframe tbody tr th {\n",
       "        vertical-align: top;\n",
       "    }\n",
       "\n",
       "    .dataframe thead th {\n",
       "        text-align: right;\n",
       "    }\n",
       "</style>\n",
       "<table border=\"1\" class=\"dataframe\">\n",
       "  <thead>\n",
       "    <tr style=\"text-align: right;\">\n",
       "      <th></th>\n",
       "      <th>page_viewed</th>\n",
       "      <th>user_id</th>\n",
       "      <th>cohort_id</th>\n",
       "      <th>ip</th>\n",
       "      <th>year</th>\n",
       "      <th>month</th>\n",
       "      <th>day</th>\n",
       "      <th>hour</th>\n",
       "      <th>weekday</th>\n",
       "      <th>int_ip</th>\n",
       "    </tr>\n",
       "    <tr>\n",
       "      <th>datetime</th>\n",
       "      <th></th>\n",
       "      <th></th>\n",
       "      <th></th>\n",
       "      <th></th>\n",
       "      <th></th>\n",
       "      <th></th>\n",
       "      <th></th>\n",
       "      <th></th>\n",
       "      <th></th>\n",
       "      <th></th>\n",
       "    </tr>\n",
       "  </thead>\n",
       "  <tbody>\n",
       "    <tr>\n",
       "      <th>2018-03-05 14:22:48</th>\n",
       "      <td>html-css/css-i</td>\n",
       "      <td>25</td>\n",
       "      <td>23</td>\n",
       "      <td>97.105.19.61</td>\n",
       "      <td>2018</td>\n",
       "      <td>3</td>\n",
       "      <td>5</td>\n",
       "      <td>14</td>\n",
       "      <td>Monday</td>\n",
       "      <td>1634276157</td>\n",
       "    </tr>\n",
       "    <tr>\n",
       "      <th>2018-03-05 14:22:58</th>\n",
       "      <td>html-css/forms</td>\n",
       "      <td>25</td>\n",
       "      <td>23</td>\n",
       "      <td>97.105.19.61</td>\n",
       "      <td>2018</td>\n",
       "      <td>3</td>\n",
       "      <td>5</td>\n",
       "      <td>14</td>\n",
       "      <td>Monday</td>\n",
       "      <td>1634276157</td>\n",
       "    </tr>\n",
       "    <tr>\n",
       "      <th>2018-03-05 14:23:06</th>\n",
       "      <td>html-css/css-i</td>\n",
       "      <td>25</td>\n",
       "      <td>23</td>\n",
       "      <td>97.105.19.61</td>\n",
       "      <td>2018</td>\n",
       "      <td>3</td>\n",
       "      <td>5</td>\n",
       "      <td>14</td>\n",
       "      <td>Monday</td>\n",
       "      <td>1634276157</td>\n",
       "    </tr>\n",
       "    <tr>\n",
       "      <th>2018-03-05 14:23:08</th>\n",
       "      <td>html-css/css-i/introduction</td>\n",
       "      <td>25</td>\n",
       "      <td>23</td>\n",
       "      <td>97.105.19.61</td>\n",
       "      <td>2018</td>\n",
       "      <td>3</td>\n",
       "      <td>5</td>\n",
       "      <td>14</td>\n",
       "      <td>Monday</td>\n",
       "      <td>1634276157</td>\n",
       "    </tr>\n",
       "    <tr>\n",
       "      <th>2018-03-05 14:23:47</th>\n",
       "      <td>html-css</td>\n",
       "      <td>25</td>\n",
       "      <td>23</td>\n",
       "      <td>97.105.19.61</td>\n",
       "      <td>2018</td>\n",
       "      <td>3</td>\n",
       "      <td>5</td>\n",
       "      <td>14</td>\n",
       "      <td>Monday</td>\n",
       "      <td>1634276157</td>\n",
       "    </tr>\n",
       "  </tbody>\n",
       "</table>\n",
       "</div>"
      ],
      "text/plain": [
       "                                     page_viewed user_id cohort_id  \\\n",
       "datetime                                                             \n",
       "2018-03-05 14:22:48               html-css/css-i      25        23   \n",
       "2018-03-05 14:22:58               html-css/forms      25        23   \n",
       "2018-03-05 14:23:06               html-css/css-i      25        23   \n",
       "2018-03-05 14:23:08  html-css/css-i/introduction      25        23   \n",
       "2018-03-05 14:23:47                     html-css      25        23   \n",
       "\n",
       "                               ip  year month day hour weekday      int_ip  \n",
       "datetime                                                                    \n",
       "2018-03-05 14:22:48  97.105.19.61  2018     3   5   14  Monday  1634276157  \n",
       "2018-03-05 14:22:58  97.105.19.61  2018     3   5   14  Monday  1634276157  \n",
       "2018-03-05 14:23:06  97.105.19.61  2018     3   5   14  Monday  1634276157  \n",
       "2018-03-05 14:23:08  97.105.19.61  2018     3   5   14  Monday  1634276157  \n",
       "2018-03-05 14:23:47  97.105.19.61  2018     3   5   14  Monday  1634276157  "
      ]
     },
     "execution_count": 12,
     "metadata": {},
     "output_type": "execute_result"
    }
   ],
   "source": [
    "ulysses.head()"
   ]
  },
  {
   "cell_type": "code",
   "execution_count": 13,
   "metadata": {},
   "outputs": [],
   "source": [
    "# 24,Voyageurs,2018-05-29,2018-10-11,2\n",
    "# test = explore.cohort_id(df,2018,5,29,10)\n",
    "# test.head()"
   ]
  },
  {
   "cell_type": "markdown",
   "metadata": {},
   "source": [
    "#### Cohort Voyagers"
   ]
  },
  {
   "cell_type": "code",
   "execution_count": 14,
   "metadata": {},
   "outputs": [
    {
     "data": {
      "text/plain": [
       "34"
      ]
     },
     "execution_count": 14,
     "metadata": {},
     "output_type": "execute_result"
    }
   ],
   "source": [
    "voyagers = df[df.cohort_id == 24]\n",
    "len(voyagers.user_id.unique())"
   ]
  },
  {
   "cell_type": "code",
   "execution_count": 15,
   "metadata": {},
   "outputs": [
    {
     "data": {
      "text/html": [
       "<div>\n",
       "<style scoped>\n",
       "    .dataframe tbody tr th:only-of-type {\n",
       "        vertical-align: middle;\n",
       "    }\n",
       "\n",
       "    .dataframe tbody tr th {\n",
       "        vertical-align: top;\n",
       "    }\n",
       "\n",
       "    .dataframe thead th {\n",
       "        text-align: right;\n",
       "    }\n",
       "</style>\n",
       "<table border=\"1\" class=\"dataframe\">\n",
       "  <thead>\n",
       "    <tr style=\"text-align: right;\">\n",
       "      <th></th>\n",
       "      <th>page_viewed</th>\n",
       "      <th>user_id</th>\n",
       "      <th>cohort_id</th>\n",
       "      <th>ip</th>\n",
       "      <th>year</th>\n",
       "      <th>month</th>\n",
       "      <th>day</th>\n",
       "      <th>hour</th>\n",
       "      <th>weekday</th>\n",
       "      <th>int_ip</th>\n",
       "    </tr>\n",
       "    <tr>\n",
       "      <th>datetime</th>\n",
       "      <th></th>\n",
       "      <th></th>\n",
       "      <th></th>\n",
       "      <th></th>\n",
       "      <th></th>\n",
       "      <th></th>\n",
       "      <th></th>\n",
       "      <th></th>\n",
       "      <th></th>\n",
       "      <th></th>\n",
       "    </tr>\n",
       "  </thead>\n",
       "  <tbody>\n",
       "    <tr>\n",
       "      <th>2018-05-29 14:42:38</th>\n",
       "      <td>/</td>\n",
       "      <td>182</td>\n",
       "      <td>24</td>\n",
       "      <td>97.105.19.61</td>\n",
       "      <td>2018</td>\n",
       "      <td>5</td>\n",
       "      <td>29</td>\n",
       "      <td>14</td>\n",
       "      <td>Tuesday</td>\n",
       "      <td>1634276157</td>\n",
       "    </tr>\n",
       "    <tr>\n",
       "      <th>2018-05-29 14:42:39</th>\n",
       "      <td>/</td>\n",
       "      <td>183</td>\n",
       "      <td>24</td>\n",
       "      <td>97.105.19.61</td>\n",
       "      <td>2018</td>\n",
       "      <td>5</td>\n",
       "      <td>29</td>\n",
       "      <td>14</td>\n",
       "      <td>Tuesday</td>\n",
       "      <td>1634276157</td>\n",
       "    </tr>\n",
       "    <tr>\n",
       "      <th>2018-05-29 14:42:42</th>\n",
       "      <td>/</td>\n",
       "      <td>184</td>\n",
       "      <td>24</td>\n",
       "      <td>97.105.19.61</td>\n",
       "      <td>2018</td>\n",
       "      <td>5</td>\n",
       "      <td>29</td>\n",
       "      <td>14</td>\n",
       "      <td>Tuesday</td>\n",
       "      <td>1634276157</td>\n",
       "    </tr>\n",
       "    <tr>\n",
       "      <th>2018-05-29 14:42:42</th>\n",
       "      <td>/</td>\n",
       "      <td>185</td>\n",
       "      <td>24</td>\n",
       "      <td>97.105.19.61</td>\n",
       "      <td>2018</td>\n",
       "      <td>5</td>\n",
       "      <td>29</td>\n",
       "      <td>14</td>\n",
       "      <td>Tuesday</td>\n",
       "      <td>1634276157</td>\n",
       "    </tr>\n",
       "    <tr>\n",
       "      <th>2018-05-29 14:42:42</th>\n",
       "      <td>/</td>\n",
       "      <td>186</td>\n",
       "      <td>24</td>\n",
       "      <td>97.105.19.61</td>\n",
       "      <td>2018</td>\n",
       "      <td>5</td>\n",
       "      <td>29</td>\n",
       "      <td>14</td>\n",
       "      <td>Tuesday</td>\n",
       "      <td>1634276157</td>\n",
       "    </tr>\n",
       "  </tbody>\n",
       "</table>\n",
       "</div>"
      ],
      "text/plain": [
       "                    page_viewed user_id cohort_id            ip  year month  \\\n",
       "datetime                                                                      \n",
       "2018-05-29 14:42:38           /     182        24  97.105.19.61  2018     5   \n",
       "2018-05-29 14:42:39           /     183        24  97.105.19.61  2018     5   \n",
       "2018-05-29 14:42:42           /     184        24  97.105.19.61  2018     5   \n",
       "2018-05-29 14:42:42           /     185        24  97.105.19.61  2018     5   \n",
       "2018-05-29 14:42:42           /     186        24  97.105.19.61  2018     5   \n",
       "\n",
       "                    day hour  weekday      int_ip  \n",
       "datetime                                           \n",
       "2018-05-29 14:42:38  29   14  Tuesday  1634276157  \n",
       "2018-05-29 14:42:39  29   14  Tuesday  1634276157  \n",
       "2018-05-29 14:42:42  29   14  Tuesday  1634276157  \n",
       "2018-05-29 14:42:42  29   14  Tuesday  1634276157  \n",
       "2018-05-29 14:42:42  29   14  Tuesday  1634276157  "
      ]
     },
     "execution_count": 15,
     "metadata": {},
     "output_type": "execute_result"
    }
   ],
   "source": [
    "voyagers.head()"
   ]
  },
  {
   "cell_type": "code",
   "execution_count": 16,
   "metadata": {},
   "outputs": [],
   "source": [
    "# 25,Wrangell,2018-07-23,2018-11-29,2\n",
    "# test = explore.cohort_id(df,2018,7,23,10)\n",
    "# test.head()"
   ]
  },
  {
   "cell_type": "markdown",
   "metadata": {},
   "source": [
    "#### Cohort Wranglell"
   ]
  },
  {
   "cell_type": "code",
   "execution_count": 17,
   "metadata": {},
   "outputs": [
    {
     "data": {
      "text/plain": [
       "26"
      ]
     },
     "execution_count": 17,
     "metadata": {},
     "output_type": "execute_result"
    }
   ],
   "source": [
    "wranglell = df[df.cohort_id == 25]\n",
    "len(wranglell.user_id.unique())"
   ]
  },
  {
   "cell_type": "code",
   "execution_count": 18,
   "metadata": {},
   "outputs": [
    {
     "data": {
      "text/html": [
       "<div>\n",
       "<style scoped>\n",
       "    .dataframe tbody tr th:only-of-type {\n",
       "        vertical-align: middle;\n",
       "    }\n",
       "\n",
       "    .dataframe tbody tr th {\n",
       "        vertical-align: top;\n",
       "    }\n",
       "\n",
       "    .dataframe thead th {\n",
       "        text-align: right;\n",
       "    }\n",
       "</style>\n",
       "<table border=\"1\" class=\"dataframe\">\n",
       "  <thead>\n",
       "    <tr style=\"text-align: right;\">\n",
       "      <th></th>\n",
       "      <th>page_viewed</th>\n",
       "      <th>user_id</th>\n",
       "      <th>cohort_id</th>\n",
       "      <th>ip</th>\n",
       "      <th>year</th>\n",
       "      <th>month</th>\n",
       "      <th>day</th>\n",
       "      <th>hour</th>\n",
       "      <th>weekday</th>\n",
       "      <th>int_ip</th>\n",
       "    </tr>\n",
       "    <tr>\n",
       "      <th>datetime</th>\n",
       "      <th></th>\n",
       "      <th></th>\n",
       "      <th></th>\n",
       "      <th></th>\n",
       "      <th></th>\n",
       "      <th></th>\n",
       "      <th></th>\n",
       "      <th></th>\n",
       "      <th></th>\n",
       "      <th></th>\n",
       "    </tr>\n",
       "  </thead>\n",
       "  <tbody>\n",
       "    <tr>\n",
       "      <th>2018-07-23 13:51:26</th>\n",
       "      <td>registerUser</td>\n",
       "      <td>218</td>\n",
       "      <td>25</td>\n",
       "      <td>97.105.19.58</td>\n",
       "      <td>2018</td>\n",
       "      <td>7</td>\n",
       "      <td>23</td>\n",
       "      <td>13</td>\n",
       "      <td>Monday</td>\n",
       "      <td>1634276154</td>\n",
       "    </tr>\n",
       "    <tr>\n",
       "      <th>2018-07-23 13:51:39</th>\n",
       "      <td>registerUser</td>\n",
       "      <td>218</td>\n",
       "      <td>25</td>\n",
       "      <td>97.105.19.58</td>\n",
       "      <td>2018</td>\n",
       "      <td>7</td>\n",
       "      <td>23</td>\n",
       "      <td>13</td>\n",
       "      <td>Monday</td>\n",
       "      <td>1634276154</td>\n",
       "    </tr>\n",
       "    <tr>\n",
       "      <th>2018-07-23 15:15:19</th>\n",
       "      <td>/</td>\n",
       "      <td>219</td>\n",
       "      <td>25</td>\n",
       "      <td>97.105.19.58</td>\n",
       "      <td>2018</td>\n",
       "      <td>7</td>\n",
       "      <td>23</td>\n",
       "      <td>15</td>\n",
       "      <td>Monday</td>\n",
       "      <td>1634276154</td>\n",
       "    </tr>\n",
       "    <tr>\n",
       "      <th>2018-07-23 15:15:20</th>\n",
       "      <td>/</td>\n",
       "      <td>220</td>\n",
       "      <td>25</td>\n",
       "      <td>97.105.19.58</td>\n",
       "      <td>2018</td>\n",
       "      <td>7</td>\n",
       "      <td>23</td>\n",
       "      <td>15</td>\n",
       "      <td>Monday</td>\n",
       "      <td>1634276154</td>\n",
       "    </tr>\n",
       "    <tr>\n",
       "      <th>2018-07-23 15:15:21</th>\n",
       "      <td>/</td>\n",
       "      <td>221</td>\n",
       "      <td>25</td>\n",
       "      <td>97.105.19.58</td>\n",
       "      <td>2018</td>\n",
       "      <td>7</td>\n",
       "      <td>23</td>\n",
       "      <td>15</td>\n",
       "      <td>Monday</td>\n",
       "      <td>1634276154</td>\n",
       "    </tr>\n",
       "  </tbody>\n",
       "</table>\n",
       "</div>"
      ],
      "text/plain": [
       "                      page_viewed user_id cohort_id            ip  year month  \\\n",
       "datetime                                                                        \n",
       "2018-07-23 13:51:26  registerUser     218        25  97.105.19.58  2018     7   \n",
       "2018-07-23 13:51:39  registerUser     218        25  97.105.19.58  2018     7   \n",
       "2018-07-23 15:15:19             /     219        25  97.105.19.58  2018     7   \n",
       "2018-07-23 15:15:20             /     220        25  97.105.19.58  2018     7   \n",
       "2018-07-23 15:15:21             /     221        25  97.105.19.58  2018     7   \n",
       "\n",
       "                    day hour weekday      int_ip  \n",
       "datetime                                          \n",
       "2018-07-23 13:51:26  23   13  Monday  1634276154  \n",
       "2018-07-23 13:51:39  23   13  Monday  1634276154  \n",
       "2018-07-23 15:15:19  23   15  Monday  1634276154  \n",
       "2018-07-23 15:15:20  23   15  Monday  1634276154  \n",
       "2018-07-23 15:15:21  23   15  Monday  1634276154  "
      ]
     },
     "execution_count": 18,
     "metadata": {},
     "output_type": "execute_result"
    }
   ],
   "source": [
    "wranglell.head()"
   ]
  },
  {
   "cell_type": "code",
   "execution_count": 19,
   "metadata": {},
   "outputs": [],
   "source": [
    "# 26,Xanadu,2018-09-17,2019-02-08,2\n",
    "# test = explore.cohort_id(df,2018,9,17,10)\n",
    "# test.head()"
   ]
  },
  {
   "cell_type": "markdown",
   "metadata": {},
   "source": [
    "#### Cohort Xanadu"
   ]
  },
  {
   "cell_type": "code",
   "execution_count": 20,
   "metadata": {},
   "outputs": [
    {
     "data": {
      "text/plain": [
       "20"
      ]
     },
     "execution_count": 20,
     "metadata": {},
     "output_type": "execute_result"
    }
   ],
   "source": [
    "xanadu = df[df.cohort_id == 26]\n",
    "len(xanadu.user_id.unique())"
   ]
  },
  {
   "cell_type": "code",
   "execution_count": 21,
   "metadata": {},
   "outputs": [
    {
     "data": {
      "text/html": [
       "<div>\n",
       "<style scoped>\n",
       "    .dataframe tbody tr th:only-of-type {\n",
       "        vertical-align: middle;\n",
       "    }\n",
       "\n",
       "    .dataframe tbody tr th {\n",
       "        vertical-align: top;\n",
       "    }\n",
       "\n",
       "    .dataframe thead th {\n",
       "        text-align: right;\n",
       "    }\n",
       "</style>\n",
       "<table border=\"1\" class=\"dataframe\">\n",
       "  <thead>\n",
       "    <tr style=\"text-align: right;\">\n",
       "      <th></th>\n",
       "      <th>page_viewed</th>\n",
       "      <th>user_id</th>\n",
       "      <th>cohort_id</th>\n",
       "      <th>ip</th>\n",
       "      <th>year</th>\n",
       "      <th>month</th>\n",
       "      <th>day</th>\n",
       "      <th>hour</th>\n",
       "      <th>weekday</th>\n",
       "      <th>int_ip</th>\n",
       "    </tr>\n",
       "    <tr>\n",
       "      <th>datetime</th>\n",
       "      <th></th>\n",
       "      <th></th>\n",
       "      <th></th>\n",
       "      <th></th>\n",
       "      <th></th>\n",
       "      <th></th>\n",
       "      <th></th>\n",
       "      <th></th>\n",
       "      <th></th>\n",
       "      <th></th>\n",
       "    </tr>\n",
       "  </thead>\n",
       "  <tbody>\n",
       "    <tr>\n",
       "      <th>2018-09-17 14:12:28</th>\n",
       "      <td>/</td>\n",
       "      <td>259</td>\n",
       "      <td>26</td>\n",
       "      <td>97.105.19.58</td>\n",
       "      <td>2018</td>\n",
       "      <td>9</td>\n",
       "      <td>17</td>\n",
       "      <td>14</td>\n",
       "      <td>Monday</td>\n",
       "      <td>1634276154</td>\n",
       "    </tr>\n",
       "    <tr>\n",
       "      <th>2018-09-17 14:13:38</th>\n",
       "      <td>/</td>\n",
       "      <td>260</td>\n",
       "      <td>26</td>\n",
       "      <td>97.105.19.58</td>\n",
       "      <td>2018</td>\n",
       "      <td>9</td>\n",
       "      <td>17</td>\n",
       "      <td>14</td>\n",
       "      <td>Monday</td>\n",
       "      <td>1634276154</td>\n",
       "    </tr>\n",
       "    <tr>\n",
       "      <th>2018-09-17 14:13:42</th>\n",
       "      <td>html-css</td>\n",
       "      <td>260</td>\n",
       "      <td>26</td>\n",
       "      <td>97.105.19.58</td>\n",
       "      <td>2018</td>\n",
       "      <td>9</td>\n",
       "      <td>17</td>\n",
       "      <td>14</td>\n",
       "      <td>Monday</td>\n",
       "      <td>1634276154</td>\n",
       "    </tr>\n",
       "    <tr>\n",
       "      <th>2018-09-17 14:13:58</th>\n",
       "      <td>/</td>\n",
       "      <td>261</td>\n",
       "      <td>26</td>\n",
       "      <td>97.105.19.58</td>\n",
       "      <td>2018</td>\n",
       "      <td>9</td>\n",
       "      <td>17</td>\n",
       "      <td>14</td>\n",
       "      <td>Monday</td>\n",
       "      <td>1634276154</td>\n",
       "    </tr>\n",
       "    <tr>\n",
       "      <th>2018-09-17 14:14:21</th>\n",
       "      <td>/</td>\n",
       "      <td>262</td>\n",
       "      <td>26</td>\n",
       "      <td>97.105.19.58</td>\n",
       "      <td>2018</td>\n",
       "      <td>9</td>\n",
       "      <td>17</td>\n",
       "      <td>14</td>\n",
       "      <td>Monday</td>\n",
       "      <td>1634276154</td>\n",
       "    </tr>\n",
       "  </tbody>\n",
       "</table>\n",
       "</div>"
      ],
      "text/plain": [
       "                    page_viewed user_id cohort_id            ip  year month  \\\n",
       "datetime                                                                      \n",
       "2018-09-17 14:12:28           /     259        26  97.105.19.58  2018     9   \n",
       "2018-09-17 14:13:38           /     260        26  97.105.19.58  2018     9   \n",
       "2018-09-17 14:13:42    html-css     260        26  97.105.19.58  2018     9   \n",
       "2018-09-17 14:13:58           /     261        26  97.105.19.58  2018     9   \n",
       "2018-09-17 14:14:21           /     262        26  97.105.19.58  2018     9   \n",
       "\n",
       "                    day hour weekday      int_ip  \n",
       "datetime                                          \n",
       "2018-09-17 14:12:28  17   14  Monday  1634276154  \n",
       "2018-09-17 14:13:38  17   14  Monday  1634276154  \n",
       "2018-09-17 14:13:42  17   14  Monday  1634276154  \n",
       "2018-09-17 14:13:58  17   14  Monday  1634276154  \n",
       "2018-09-17 14:14:21  17   14  Monday  1634276154  "
      ]
     },
     "execution_count": 21,
     "metadata": {},
     "output_type": "execute_result"
    }
   ],
   "source": [
    "xanadu.head()"
   ]
  },
  {
   "cell_type": "code",
   "execution_count": 22,
   "metadata": {},
   "outputs": [],
   "source": [
    "# 27,Yosemite,2018-11-05,2019-04-03,2\n",
    "# test = explore.cohort_id(df,2018,11,5,10)\n",
    "# test.head(20)"
   ]
  },
  {
   "cell_type": "markdown",
   "metadata": {},
   "source": [
    "#### Cohort Yosemite"
   ]
  },
  {
   "cell_type": "code",
   "execution_count": 23,
   "metadata": {},
   "outputs": [
    {
     "data": {
      "text/plain": [
       "29"
      ]
     },
     "execution_count": 23,
     "metadata": {},
     "output_type": "execute_result"
    }
   ],
   "source": [
    "yosemite = df[df.cohort_id == 27]\n",
    "len(yosemite.user_id.unique())"
   ]
  },
  {
   "cell_type": "code",
   "execution_count": 24,
   "metadata": {},
   "outputs": [
    {
     "data": {
      "text/html": [
       "<div>\n",
       "<style scoped>\n",
       "    .dataframe tbody tr th:only-of-type {\n",
       "        vertical-align: middle;\n",
       "    }\n",
       "\n",
       "    .dataframe tbody tr th {\n",
       "        vertical-align: top;\n",
       "    }\n",
       "\n",
       "    .dataframe thead th {\n",
       "        text-align: right;\n",
       "    }\n",
       "</style>\n",
       "<table border=\"1\" class=\"dataframe\">\n",
       "  <thead>\n",
       "    <tr style=\"text-align: right;\">\n",
       "      <th></th>\n",
       "      <th>page_viewed</th>\n",
       "      <th>user_id</th>\n",
       "      <th>cohort_id</th>\n",
       "      <th>ip</th>\n",
       "      <th>year</th>\n",
       "      <th>month</th>\n",
       "      <th>day</th>\n",
       "      <th>hour</th>\n",
       "      <th>weekday</th>\n",
       "      <th>int_ip</th>\n",
       "    </tr>\n",
       "    <tr>\n",
       "      <th>datetime</th>\n",
       "      <th></th>\n",
       "      <th></th>\n",
       "      <th></th>\n",
       "      <th></th>\n",
       "      <th></th>\n",
       "      <th></th>\n",
       "      <th></th>\n",
       "      <th></th>\n",
       "      <th></th>\n",
       "      <th></th>\n",
       "    </tr>\n",
       "  </thead>\n",
       "  <tbody>\n",
       "    <tr>\n",
       "      <th>2018-11-05 14:03:58</th>\n",
       "      <td>/</td>\n",
       "      <td>287</td>\n",
       "      <td>27</td>\n",
       "      <td>97.105.19.58</td>\n",
       "      <td>2018</td>\n",
       "      <td>11</td>\n",
       "      <td>5</td>\n",
       "      <td>14</td>\n",
       "      <td>Monday</td>\n",
       "      <td>1634276154</td>\n",
       "    </tr>\n",
       "    <tr>\n",
       "      <th>2018-11-05 14:04:58</th>\n",
       "      <td>/</td>\n",
       "      <td>288</td>\n",
       "      <td>27</td>\n",
       "      <td>97.105.19.58</td>\n",
       "      <td>2018</td>\n",
       "      <td>11</td>\n",
       "      <td>5</td>\n",
       "      <td>14</td>\n",
       "      <td>Monday</td>\n",
       "      <td>1634276154</td>\n",
       "    </tr>\n",
       "    <tr>\n",
       "      <th>2018-11-05 14:05:18</th>\n",
       "      <td>/</td>\n",
       "      <td>289</td>\n",
       "      <td>27</td>\n",
       "      <td>97.105.19.58</td>\n",
       "      <td>2018</td>\n",
       "      <td>11</td>\n",
       "      <td>5</td>\n",
       "      <td>14</td>\n",
       "      <td>Monday</td>\n",
       "      <td>1634276154</td>\n",
       "    </tr>\n",
       "    <tr>\n",
       "      <th>2018-11-05 14:06:41</th>\n",
       "      <td>/</td>\n",
       "      <td>290</td>\n",
       "      <td>27</td>\n",
       "      <td>97.105.19.58</td>\n",
       "      <td>2018</td>\n",
       "      <td>11</td>\n",
       "      <td>5</td>\n",
       "      <td>14</td>\n",
       "      <td>Monday</td>\n",
       "      <td>1634276154</td>\n",
       "    </tr>\n",
       "    <tr>\n",
       "      <th>2018-11-05 14:06:51</th>\n",
       "      <td>/</td>\n",
       "      <td>291</td>\n",
       "      <td>27</td>\n",
       "      <td>97.105.19.58</td>\n",
       "      <td>2018</td>\n",
       "      <td>11</td>\n",
       "      <td>5</td>\n",
       "      <td>14</td>\n",
       "      <td>Monday</td>\n",
       "      <td>1634276154</td>\n",
       "    </tr>\n",
       "  </tbody>\n",
       "</table>\n",
       "</div>"
      ],
      "text/plain": [
       "                    page_viewed user_id cohort_id            ip  year month  \\\n",
       "datetime                                                                      \n",
       "2018-11-05 14:03:58           /     287        27  97.105.19.58  2018    11   \n",
       "2018-11-05 14:04:58           /     288        27  97.105.19.58  2018    11   \n",
       "2018-11-05 14:05:18           /     289        27  97.105.19.58  2018    11   \n",
       "2018-11-05 14:06:41           /     290        27  97.105.19.58  2018    11   \n",
       "2018-11-05 14:06:51           /     291        27  97.105.19.58  2018    11   \n",
       "\n",
       "                    day hour weekday      int_ip  \n",
       "datetime                                          \n",
       "2018-11-05 14:03:58   5   14  Monday  1634276154  \n",
       "2018-11-05 14:04:58   5   14  Monday  1634276154  \n",
       "2018-11-05 14:05:18   5   14  Monday  1634276154  \n",
       "2018-11-05 14:06:41   5   14  Monday  1634276154  \n",
       "2018-11-05 14:06:51   5   14  Monday  1634276154  "
      ]
     },
     "execution_count": 24,
     "metadata": {},
     "output_type": "execute_result"
    }
   ],
   "source": [
    "yosemite.head()"
   ]
  },
  {
   "cell_type": "markdown",
   "metadata": {},
   "source": [
    "****"
   ]
  },
  {
   "cell_type": "code",
   "execution_count": 25,
   "metadata": {},
   "outputs": [],
   "source": [
    "# 28,Staff,2014-02-04,2014-02-04,2"
   ]
  },
  {
   "cell_type": "markdown",
   "metadata": {},
   "source": [
    "`Staff are listed under the webdev cohorts (2)`"
   ]
  },
  {
   "cell_type": "markdown",
   "metadata": {},
   "source": [
    "****"
   ]
  },
  {
   "cell_type": "code",
   "execution_count": 26,
   "metadata": {},
   "outputs": [
    {
     "data": {
      "text/html": [
       "<div>\n",
       "<style scoped>\n",
       "    .dataframe tbody tr th:only-of-type {\n",
       "        vertical-align: middle;\n",
       "    }\n",
       "\n",
       "    .dataframe tbody tr th {\n",
       "        vertical-align: top;\n",
       "    }\n",
       "\n",
       "    .dataframe thead th {\n",
       "        text-align: right;\n",
       "    }\n",
       "</style>\n",
       "<table border=\"1\" class=\"dataframe\">\n",
       "  <thead>\n",
       "    <tr style=\"text-align: right;\">\n",
       "      <th></th>\n",
       "      <th>page_viewed</th>\n",
       "      <th>user_id</th>\n",
       "      <th>cohort_id</th>\n",
       "      <th>ip</th>\n",
       "      <th>year</th>\n",
       "      <th>month</th>\n",
       "      <th>day</th>\n",
       "      <th>hour</th>\n",
       "      <th>weekday</th>\n",
       "      <th>int_ip</th>\n",
       "    </tr>\n",
       "    <tr>\n",
       "      <th>datetime</th>\n",
       "      <th></th>\n",
       "      <th></th>\n",
       "      <th></th>\n",
       "      <th></th>\n",
       "      <th></th>\n",
       "      <th></th>\n",
       "      <th></th>\n",
       "      <th></th>\n",
       "      <th></th>\n",
       "      <th></th>\n",
       "    </tr>\n",
       "  </thead>\n",
       "  <tbody>\n",
       "    <tr>\n",
       "      <th>2019-01-22 09:02:00</th>\n",
       "      <td>spring</td>\n",
       "      <td>272</td>\n",
       "      <td>26</td>\n",
       "      <td>97.105.19.58</td>\n",
       "      <td>2019</td>\n",
       "      <td>1</td>\n",
       "      <td>22</td>\n",
       "      <td>9</td>\n",
       "      <td>Tuesday</td>\n",
       "      <td>1634276154</td>\n",
       "    </tr>\n",
       "    <tr>\n",
       "      <th>2019-01-22 09:02:05</th>\n",
       "      <td>spring/fundamentals/form-model-binding</td>\n",
       "      <td>272</td>\n",
       "      <td>26</td>\n",
       "      <td>97.105.19.58</td>\n",
       "      <td>2019</td>\n",
       "      <td>1</td>\n",
       "      <td>22</td>\n",
       "      <td>9</td>\n",
       "      <td>Tuesday</td>\n",
       "      <td>1634276154</td>\n",
       "    </tr>\n",
       "    <tr>\n",
       "      <th>2019-01-22 09:02:23</th>\n",
       "      <td>java-ii/annotations</td>\n",
       "      <td>295</td>\n",
       "      <td>27</td>\n",
       "      <td>97.105.19.58</td>\n",
       "      <td>2019</td>\n",
       "      <td>1</td>\n",
       "      <td>22</td>\n",
       "      <td>9</td>\n",
       "      <td>Tuesday</td>\n",
       "      <td>1634276154</td>\n",
       "    </tr>\n",
       "    <tr>\n",
       "      <th>2019-01-22 09:02:37</th>\n",
       "      <td>java-ii/annotations</td>\n",
       "      <td>289</td>\n",
       "      <td>27</td>\n",
       "      <td>97.105.19.58</td>\n",
       "      <td>2019</td>\n",
       "      <td>1</td>\n",
       "      <td>22</td>\n",
       "      <td>9</td>\n",
       "      <td>Tuesday</td>\n",
       "      <td>1634276154</td>\n",
       "    </tr>\n",
       "    <tr>\n",
       "      <th>2019-01-22 09:02:38</th>\n",
       "      <td>java-ii/collections</td>\n",
       "      <td>292</td>\n",
       "      <td>27</td>\n",
       "      <td>97.105.19.58</td>\n",
       "      <td>2019</td>\n",
       "      <td>1</td>\n",
       "      <td>22</td>\n",
       "      <td>9</td>\n",
       "      <td>Tuesday</td>\n",
       "      <td>1634276154</td>\n",
       "    </tr>\n",
       "  </tbody>\n",
       "</table>\n",
       "</div>"
      ],
      "text/plain": [
       "                                                page_viewed user_id cohort_id  \\\n",
       "datetime                                                                        \n",
       "2019-01-22 09:02:00                                  spring     272        26   \n",
       "2019-01-22 09:02:05  spring/fundamentals/form-model-binding     272        26   \n",
       "2019-01-22 09:02:23                     java-ii/annotations     295        27   \n",
       "2019-01-22 09:02:37                     java-ii/annotations     289        27   \n",
       "2019-01-22 09:02:38                     java-ii/collections     292        27   \n",
       "\n",
       "                               ip  year month day hour  weekday      int_ip  \n",
       "datetime                                                                     \n",
       "2019-01-22 09:02:00  97.105.19.58  2019     1  22    9  Tuesday  1634276154  \n",
       "2019-01-22 09:02:05  97.105.19.58  2019     1  22    9  Tuesday  1634276154  \n",
       "2019-01-22 09:02:23  97.105.19.58  2019     1  22    9  Tuesday  1634276154  \n",
       "2019-01-22 09:02:37  97.105.19.58  2019     1  22    9  Tuesday  1634276154  \n",
       "2019-01-22 09:02:38  97.105.19.58  2019     1  22    9  Tuesday  1634276154  "
      ]
     },
     "execution_count": 26,
     "metadata": {},
     "output_type": "execute_result"
    }
   ],
   "source": [
    "# 29,Zion,2019-01-22,2019-06-04,2\n",
    "test = explore.cohort_id(df,2019,1,22,9)\n",
    "test.head()"
   ]
  },
  {
   "cell_type": "markdown",
   "metadata": {},
   "source": [
    "#### Cohort Zion"
   ]
  },
  {
   "cell_type": "code",
   "execution_count": 27,
   "metadata": {},
   "outputs": [
    {
     "data": {
      "text/plain": [
       "25"
      ]
     },
     "execution_count": 27,
     "metadata": {},
     "output_type": "execute_result"
    }
   ],
   "source": [
    "zion = df[df.cohort_id == 29]\n",
    "len(zion.user_id.unique())"
   ]
  },
  {
   "cell_type": "code",
   "execution_count": 28,
   "metadata": {},
   "outputs": [
    {
     "data": {
      "text/html": [
       "<div>\n",
       "<style scoped>\n",
       "    .dataframe tbody tr th:only-of-type {\n",
       "        vertical-align: middle;\n",
       "    }\n",
       "\n",
       "    .dataframe tbody tr th {\n",
       "        vertical-align: top;\n",
       "    }\n",
       "\n",
       "    .dataframe thead th {\n",
       "        text-align: right;\n",
       "    }\n",
       "</style>\n",
       "<table border=\"1\" class=\"dataframe\">\n",
       "  <thead>\n",
       "    <tr style=\"text-align: right;\">\n",
       "      <th></th>\n",
       "      <th>page_viewed</th>\n",
       "      <th>user_id</th>\n",
       "      <th>cohort_id</th>\n",
       "      <th>ip</th>\n",
       "      <th>year</th>\n",
       "      <th>month</th>\n",
       "      <th>day</th>\n",
       "      <th>hour</th>\n",
       "      <th>weekday</th>\n",
       "      <th>int_ip</th>\n",
       "    </tr>\n",
       "    <tr>\n",
       "      <th>datetime</th>\n",
       "      <th></th>\n",
       "      <th></th>\n",
       "      <th></th>\n",
       "      <th></th>\n",
       "      <th></th>\n",
       "      <th></th>\n",
       "      <th></th>\n",
       "      <th></th>\n",
       "      <th></th>\n",
       "      <th></th>\n",
       "    </tr>\n",
       "  </thead>\n",
       "  <tbody>\n",
       "    <tr>\n",
       "      <th>2019-01-22 15:09:54</th>\n",
       "      <td>/</td>\n",
       "      <td>323</td>\n",
       "      <td>29</td>\n",
       "      <td>97.105.19.58</td>\n",
       "      <td>2019</td>\n",
       "      <td>1</td>\n",
       "      <td>22</td>\n",
       "      <td>15</td>\n",
       "      <td>Tuesday</td>\n",
       "      <td>1634276154</td>\n",
       "    </tr>\n",
       "    <tr>\n",
       "      <th>2019-01-22 15:10:01</th>\n",
       "      <td>toc</td>\n",
       "      <td>323</td>\n",
       "      <td>29</td>\n",
       "      <td>97.105.19.58</td>\n",
       "      <td>2019</td>\n",
       "      <td>1</td>\n",
       "      <td>22</td>\n",
       "      <td>15</td>\n",
       "      <td>Tuesday</td>\n",
       "      <td>1634276154</td>\n",
       "    </tr>\n",
       "    <tr>\n",
       "      <th>2019-01-22 15:11:47</th>\n",
       "      <td>/</td>\n",
       "      <td>324</td>\n",
       "      <td>29</td>\n",
       "      <td>97.105.19.58</td>\n",
       "      <td>2019</td>\n",
       "      <td>1</td>\n",
       "      <td>22</td>\n",
       "      <td>15</td>\n",
       "      <td>Tuesday</td>\n",
       "      <td>1634276154</td>\n",
       "    </tr>\n",
       "    <tr>\n",
       "      <th>2019-01-22 15:11:53</th>\n",
       "      <td>toc</td>\n",
       "      <td>323</td>\n",
       "      <td>29</td>\n",
       "      <td>97.105.19.58</td>\n",
       "      <td>2019</td>\n",
       "      <td>1</td>\n",
       "      <td>22</td>\n",
       "      <td>15</td>\n",
       "      <td>Tuesday</td>\n",
       "      <td>1634276154</td>\n",
       "    </tr>\n",
       "    <tr>\n",
       "      <th>2019-01-22 15:11:55</th>\n",
       "      <td>/</td>\n",
       "      <td>325</td>\n",
       "      <td>29</td>\n",
       "      <td>97.105.19.58</td>\n",
       "      <td>2019</td>\n",
       "      <td>1</td>\n",
       "      <td>22</td>\n",
       "      <td>15</td>\n",
       "      <td>Tuesday</td>\n",
       "      <td>1634276154</td>\n",
       "    </tr>\n",
       "  </tbody>\n",
       "</table>\n",
       "</div>"
      ],
      "text/plain": [
       "                    page_viewed user_id cohort_id            ip  year month  \\\n",
       "datetime                                                                      \n",
       "2019-01-22 15:09:54           /     323        29  97.105.19.58  2019     1   \n",
       "2019-01-22 15:10:01         toc     323        29  97.105.19.58  2019     1   \n",
       "2019-01-22 15:11:47           /     324        29  97.105.19.58  2019     1   \n",
       "2019-01-22 15:11:53         toc     323        29  97.105.19.58  2019     1   \n",
       "2019-01-22 15:11:55           /     325        29  97.105.19.58  2019     1   \n",
       "\n",
       "                    day hour  weekday      int_ip  \n",
       "datetime                                           \n",
       "2019-01-22 15:09:54  22   15  Tuesday  1634276154  \n",
       "2019-01-22 15:10:01  22   15  Tuesday  1634276154  \n",
       "2019-01-22 15:11:47  22   15  Tuesday  1634276154  \n",
       "2019-01-22 15:11:53  22   15  Tuesday  1634276154  \n",
       "2019-01-22 15:11:55  22   15  Tuesday  1634276154  "
      ]
     },
     "execution_count": 28,
     "metadata": {},
     "output_type": "execute_result"
    }
   ],
   "source": [
    "zion.head()"
   ]
  },
  {
   "cell_type": "code",
   "execution_count": 29,
   "metadata": {},
   "outputs": [
    {
     "data": {
      "text/plain": [
       "[322,\n",
       " 314,\n",
       " 307,\n",
       " 306,\n",
       " 305,\n",
       " 304,\n",
       " 302,\n",
       " 299,\n",
       " 297,\n",
       " 296,\n",
       " 295,\n",
       " 294,\n",
       " 293,\n",
       " 292,\n",
       " 291,\n",
       " 289,\n",
       " 288,\n",
       " 273,\n",
       " 272,\n",
       " 271,\n",
       " 270,\n",
       " 269,\n",
       " 64,\n",
       " 53,\n",
       " 11]"
      ]
     },
     "execution_count": 29,
     "metadata": {},
     "output_type": "execute_result"
    }
   ],
   "source": [
    "zion_id = test.user_id.unique().tolist()\n",
    "sorted(zion_id, reverse = True)"
   ]
  },
  {
   "cell_type": "code",
   "execution_count": 30,
   "metadata": {},
   "outputs": [],
   "source": [
    "# 30,Ada,2019-02-04,2019-06-16,3\n",
    "# test = explore.cohort_id(df,2019,2,4,9)\n",
    "# test.tail(5)"
   ]
  },
  {
   "cell_type": "markdown",
   "metadata": {},
   "source": [
    "#### Cohort Ada"
   ]
  },
  {
   "cell_type": "code",
   "execution_count": null,
   "metadata": {},
   "outputs": [],
   "source": []
  },
  {
   "cell_type": "code",
   "execution_count": 31,
   "metadata": {},
   "outputs": [
    {
     "data": {
      "text/plain": [
       "0"
      ]
     },
     "execution_count": 31,
     "metadata": {},
     "output_type": "execute_result"
    }
   ],
   "source": [
    "ada = df[df.cohort_id == 30]\n",
    "len(ada.user_id.unique())"
   ]
  },
  {
   "cell_type": "code",
   "execution_count": 32,
   "metadata": {},
   "outputs": [
    {
     "data": {
      "text/html": [
       "<div>\n",
       "<style scoped>\n",
       "    .dataframe tbody tr th:only-of-type {\n",
       "        vertical-align: middle;\n",
       "    }\n",
       "\n",
       "    .dataframe tbody tr th {\n",
       "        vertical-align: top;\n",
       "    }\n",
       "\n",
       "    .dataframe thead th {\n",
       "        text-align: right;\n",
       "    }\n",
       "</style>\n",
       "<table border=\"1\" class=\"dataframe\">\n",
       "  <thead>\n",
       "    <tr style=\"text-align: right;\">\n",
       "      <th></th>\n",
       "      <th>page_viewed</th>\n",
       "      <th>user_id</th>\n",
       "      <th>cohort_id</th>\n",
       "      <th>ip</th>\n",
       "      <th>year</th>\n",
       "      <th>month</th>\n",
       "      <th>day</th>\n",
       "      <th>hour</th>\n",
       "      <th>weekday</th>\n",
       "      <th>int_ip</th>\n",
       "    </tr>\n",
       "    <tr>\n",
       "      <th>datetime</th>\n",
       "      <th></th>\n",
       "      <th></th>\n",
       "      <th></th>\n",
       "      <th></th>\n",
       "      <th></th>\n",
       "      <th></th>\n",
       "      <th></th>\n",
       "      <th></th>\n",
       "      <th></th>\n",
       "      <th></th>\n",
       "    </tr>\n",
       "  </thead>\n",
       "  <tbody>\n",
       "  </tbody>\n",
       "</table>\n",
       "</div>"
      ],
      "text/plain": [
       "Empty DataFrame\n",
       "Columns: [page_viewed, user_id, cohort_id, ip, year, month, day, hour, weekday, int_ip]\n",
       "Index: []"
      ]
     },
     "execution_count": 32,
     "metadata": {},
     "output_type": "execute_result"
    }
   ],
   "source": [
    "ada.head()"
   ]
  },
  {
   "cell_type": "code",
   "execution_count": 33,
   "metadata": {},
   "outputs": [
    {
     "data": {
      "text/html": [
       "<div>\n",
       "<style scoped>\n",
       "    .dataframe tbody tr th:only-of-type {\n",
       "        vertical-align: middle;\n",
       "    }\n",
       "\n",
       "    .dataframe tbody tr th {\n",
       "        vertical-align: top;\n",
       "    }\n",
       "\n",
       "    .dataframe thead th {\n",
       "        text-align: right;\n",
       "    }\n",
       "</style>\n",
       "<table border=\"1\" class=\"dataframe\">\n",
       "  <thead>\n",
       "    <tr style=\"text-align: right;\">\n",
       "      <th></th>\n",
       "      <th>page_viewed</th>\n",
       "      <th>user_id</th>\n",
       "      <th>cohort_id</th>\n",
       "      <th>ip</th>\n",
       "      <th>year</th>\n",
       "      <th>month</th>\n",
       "      <th>day</th>\n",
       "      <th>hour</th>\n",
       "      <th>weekday</th>\n",
       "      <th>int_ip</th>\n",
       "    </tr>\n",
       "    <tr>\n",
       "      <th>datetime</th>\n",
       "      <th></th>\n",
       "      <th></th>\n",
       "      <th></th>\n",
       "      <th></th>\n",
       "      <th></th>\n",
       "      <th></th>\n",
       "      <th></th>\n",
       "      <th></th>\n",
       "      <th></th>\n",
       "      <th></th>\n",
       "    </tr>\n",
       "  </thead>\n",
       "  <tbody>\n",
       "    <tr>\n",
       "      <th>2019-03-18 09:54:04</th>\n",
       "      <td>Intro_to_Regression</td>\n",
       "      <td>363</td>\n",
       "      <td>NaN</td>\n",
       "      <td>97.105.19.58</td>\n",
       "      <td>2019</td>\n",
       "      <td>3</td>\n",
       "      <td>18</td>\n",
       "      <td>9</td>\n",
       "      <td>Monday</td>\n",
       "      <td>1634276154</td>\n",
       "    </tr>\n",
       "    <tr>\n",
       "      <th>2019-03-18 09:54:04</th>\n",
       "      <td>ordinary_least_squares.jpeg</td>\n",
       "      <td>363</td>\n",
       "      <td>NaN</td>\n",
       "      <td>97.105.19.58</td>\n",
       "      <td>2019</td>\n",
       "      <td>3</td>\n",
       "      <td>18</td>\n",
       "      <td>9</td>\n",
       "      <td>Monday</td>\n",
       "      <td>1634276154</td>\n",
       "    </tr>\n",
       "    <tr>\n",
       "      <th>2019-03-18 09:54:05</th>\n",
       "      <td>Univariate_Regression_Excel</td>\n",
       "      <td>248</td>\n",
       "      <td>28</td>\n",
       "      <td>97.105.19.58</td>\n",
       "      <td>2019</td>\n",
       "      <td>3</td>\n",
       "      <td>18</td>\n",
       "      <td>9</td>\n",
       "      <td>Monday</td>\n",
       "      <td>1634276154</td>\n",
       "    </tr>\n",
       "    <tr>\n",
       "      <th>2019-03-18 09:54:11</th>\n",
       "      <td>Univariate_Regression_Excel</td>\n",
       "      <td>248</td>\n",
       "      <td>28</td>\n",
       "      <td>97.105.19.58</td>\n",
       "      <td>2019</td>\n",
       "      <td>3</td>\n",
       "      <td>18</td>\n",
       "      <td>9</td>\n",
       "      <td>Monday</td>\n",
       "      <td>1634276154</td>\n",
       "    </tr>\n",
       "    <tr>\n",
       "      <th>2019-03-18 09:56:41</th>\n",
       "      <td>Univariate_Regression_Excel</td>\n",
       "      <td>355</td>\n",
       "      <td>NaN</td>\n",
       "      <td>97.105.19.58</td>\n",
       "      <td>2019</td>\n",
       "      <td>3</td>\n",
       "      <td>18</td>\n",
       "      <td>9</td>\n",
       "      <td>Monday</td>\n",
       "      <td>1634276154</td>\n",
       "    </tr>\n",
       "  </tbody>\n",
       "</table>\n",
       "</div>"
      ],
      "text/plain": [
       "                                     page_viewed user_id cohort_id  \\\n",
       "datetime                                                             \n",
       "2019-03-18 09:54:04          Intro_to_Regression     363       NaN   \n",
       "2019-03-18 09:54:04  ordinary_least_squares.jpeg     363       NaN   \n",
       "2019-03-18 09:54:05  Univariate_Regression_Excel     248        28   \n",
       "2019-03-18 09:54:11  Univariate_Regression_Excel     248        28   \n",
       "2019-03-18 09:56:41  Univariate_Regression_Excel     355       NaN   \n",
       "\n",
       "                               ip  year month day hour weekday      int_ip  \n",
       "datetime                                                                    \n",
       "2019-03-18 09:54:04  97.105.19.58  2019     3  18    9  Monday  1634276154  \n",
       "2019-03-18 09:54:04  97.105.19.58  2019     3  18    9  Monday  1634276154  \n",
       "2019-03-18 09:54:05  97.105.19.58  2019     3  18    9  Monday  1634276154  \n",
       "2019-03-18 09:54:11  97.105.19.58  2019     3  18    9  Monday  1634276154  \n",
       "2019-03-18 09:56:41  97.105.19.58  2019     3  18    9  Monday  1634276154  "
      ]
     },
     "execution_count": 33,
     "metadata": {},
     "output_type": "execute_result"
    }
   ],
   "source": [
    "# 31,Andromeda,2019-03-18,2019-07-30,2\n",
    "test = explore.cohort_id(df,2019,3,18,9)\n",
    "test.tail()"
   ]
  },
  {
   "cell_type": "code",
   "execution_count": 34,
   "metadata": {},
   "outputs": [
    {
     "data": {
      "text/plain": [
       "array([362, 357, 248, 363, 372, 353, 351, 355, 361, 359, 349, 364, 354,\n",
       "       369, 367, 347, 344, 337, 368, 366, 330, 352, 328, 266],\n",
       "      dtype=object)"
      ]
     },
     "execution_count": 34,
     "metadata": {},
     "output_type": "execute_result"
    }
   ],
   "source": [
    "test.user_id.unique()"
   ]
  },
  {
   "cell_type": "code",
   "execution_count": 35,
   "metadata": {},
   "outputs": [
    {
     "data": {
      "text/plain": [
       "[372,\n",
       " 369,\n",
       " 368,\n",
       " 367,\n",
       " 366,\n",
       " 364,\n",
       " 363,\n",
       " 362,\n",
       " 361,\n",
       " 359,\n",
       " 357,\n",
       " 355,\n",
       " 354,\n",
       " 353,\n",
       " 352,\n",
       " 351,\n",
       " 349,\n",
       " 347,\n",
       " 344,\n",
       " 337,\n",
       " 330,\n",
       " 328,\n",
       " 266,\n",
       " 248]"
      ]
     },
     "execution_count": 35,
     "metadata": {},
     "output_type": "execute_result"
    }
   ],
   "source": [
    "ada_id = test.user_id.unique().tolist()\n",
    "sorted(ada_id, reverse = True)"
   ]
  },
  {
   "cell_type": "code",
   "execution_count": 36,
   "metadata": {},
   "outputs": [
    {
     "data": {
      "text/html": [
       "<div>\n",
       "<style scoped>\n",
       "    .dataframe tbody tr th:only-of-type {\n",
       "        vertical-align: middle;\n",
       "    }\n",
       "\n",
       "    .dataframe tbody tr th {\n",
       "        vertical-align: top;\n",
       "    }\n",
       "\n",
       "    .dataframe thead th {\n",
       "        text-align: right;\n",
       "    }\n",
       "</style>\n",
       "<table border=\"1\" class=\"dataframe\">\n",
       "  <thead>\n",
       "    <tr style=\"text-align: right;\">\n",
       "      <th></th>\n",
       "      <th>page_viewed</th>\n",
       "      <th>user_id</th>\n",
       "      <th>cohort_id</th>\n",
       "      <th>ip</th>\n",
       "      <th>year</th>\n",
       "      <th>month</th>\n",
       "      <th>day</th>\n",
       "      <th>hour</th>\n",
       "      <th>weekday</th>\n",
       "      <th>int_ip</th>\n",
       "    </tr>\n",
       "    <tr>\n",
       "      <th>datetime</th>\n",
       "      <th></th>\n",
       "      <th></th>\n",
       "      <th></th>\n",
       "      <th></th>\n",
       "      <th></th>\n",
       "      <th></th>\n",
       "      <th></th>\n",
       "      <th></th>\n",
       "      <th></th>\n",
       "      <th></th>\n",
       "    </tr>\n",
       "  </thead>\n",
       "  <tbody>\n",
       "    <tr>\n",
       "      <th>2019-03-18 10:56:36</th>\n",
       "      <td>3.0-mysql-overview</td>\n",
       "      <td>355</td>\n",
       "      <td>NaN</td>\n",
       "      <td>97.105.19.58</td>\n",
       "      <td>2019</td>\n",
       "      <td>3</td>\n",
       "      <td>18</td>\n",
       "      <td>10</td>\n",
       "      <td>Monday</td>\n",
       "      <td>1634276154</td>\n",
       "    </tr>\n",
       "    <tr>\n",
       "      <th>2019-03-18 10:56:41</th>\n",
       "      <td>3.8.2-joins</td>\n",
       "      <td>355</td>\n",
       "      <td>NaN</td>\n",
       "      <td>97.105.19.58</td>\n",
       "      <td>2019</td>\n",
       "      <td>3</td>\n",
       "      <td>18</td>\n",
       "      <td>10</td>\n",
       "      <td>Monday</td>\n",
       "      <td>1634276154</td>\n",
       "    </tr>\n",
       "    <tr>\n",
       "      <th>2019-03-18 10:56:42</th>\n",
       "      <td>3.8.3-subqueries</td>\n",
       "      <td>355</td>\n",
       "      <td>NaN</td>\n",
       "      <td>97.105.19.58</td>\n",
       "      <td>2019</td>\n",
       "      <td>3</td>\n",
       "      <td>18</td>\n",
       "      <td>10</td>\n",
       "      <td>Monday</td>\n",
       "      <td>1634276154</td>\n",
       "    </tr>\n",
       "    <tr>\n",
       "      <th>2019-03-18 10:56:43</th>\n",
       "      <td>3.9-temporary-tables</td>\n",
       "      <td>355</td>\n",
       "      <td>NaN</td>\n",
       "      <td>97.105.19.58</td>\n",
       "      <td>2019</td>\n",
       "      <td>3</td>\n",
       "      <td>18</td>\n",
       "      <td>10</td>\n",
       "      <td>Monday</td>\n",
       "      <td>1634276154</td>\n",
       "    </tr>\n",
       "    <tr>\n",
       "      <th>2019-03-18 10:56:49</th>\n",
       "      <td>appendix</td>\n",
       "      <td>11</td>\n",
       "      <td>28</td>\n",
       "      <td>97.105.19.58</td>\n",
       "      <td>2019</td>\n",
       "      <td>3</td>\n",
       "      <td>18</td>\n",
       "      <td>10</td>\n",
       "      <td>Monday</td>\n",
       "      <td>1634276154</td>\n",
       "    </tr>\n",
       "  </tbody>\n",
       "</table>\n",
       "</div>"
      ],
      "text/plain": [
       "                              page_viewed user_id cohort_id            ip  \\\n",
       "datetime                                                                    \n",
       "2019-03-18 10:56:36    3.0-mysql-overview     355       NaN  97.105.19.58   \n",
       "2019-03-18 10:56:41           3.8.2-joins     355       NaN  97.105.19.58   \n",
       "2019-03-18 10:56:42      3.8.3-subqueries     355       NaN  97.105.19.58   \n",
       "2019-03-18 10:56:43  3.9-temporary-tables     355       NaN  97.105.19.58   \n",
       "2019-03-18 10:56:49              appendix      11        28  97.105.19.58   \n",
       "\n",
       "                     year month day hour weekday      int_ip  \n",
       "datetime                                                      \n",
       "2019-03-18 10:56:36  2019     3  18   10  Monday  1634276154  \n",
       "2019-03-18 10:56:41  2019     3  18   10  Monday  1634276154  \n",
       "2019-03-18 10:56:42  2019     3  18   10  Monday  1634276154  \n",
       "2019-03-18 10:56:43  2019     3  18   10  Monday  1634276154  \n",
       "2019-03-18 10:56:49  2019     3  18   10  Monday  1634276154  "
      ]
     },
     "execution_count": 36,
     "metadata": {},
     "output_type": "execute_result"
    }
   ],
   "source": [
    "# Next Hour\n",
    "test = explore.cohort_id(df,2019,3,18,10)\n",
    "test.tail()"
   ]
  },
  {
   "cell_type": "code",
   "execution_count": 37,
   "metadata": {},
   "outputs": [
    {
     "data": {
      "text/plain": [
       "[372,\n",
       " 369,\n",
       " 368,\n",
       " 367,\n",
       " 366,\n",
       " 363,\n",
       " 361,\n",
       " 359,\n",
       " 357,\n",
       " 355,\n",
       " 354,\n",
       " 353,\n",
       " 352,\n",
       " 351,\n",
       " 346,\n",
       " 344,\n",
       " 337,\n",
       " 336,\n",
       " 330,\n",
       " 314,\n",
       " 248,\n",
       " 11]"
      ]
     },
     "execution_count": 37,
     "metadata": {},
     "output_type": "execute_result"
    }
   ],
   "source": [
    "ada_id = test.user_id.unique().tolist()\n",
    "sorted(ada_id, reverse = True)"
   ]
  },
  {
   "cell_type": "code",
   "execution_count": 63,
   "metadata": {},
   "outputs": [
    {
     "data": {
      "text/html": [
       "<div>\n",
       "<style scoped>\n",
       "    .dataframe tbody tr th:only-of-type {\n",
       "        vertical-align: middle;\n",
       "    }\n",
       "\n",
       "    .dataframe tbody tr th {\n",
       "        vertical-align: top;\n",
       "    }\n",
       "\n",
       "    .dataframe thead th {\n",
       "        text-align: right;\n",
       "    }\n",
       "</style>\n",
       "<table border=\"1\" class=\"dataframe\">\n",
       "  <thead>\n",
       "    <tr style=\"text-align: right;\">\n",
       "      <th></th>\n",
       "      <th>page_viewed</th>\n",
       "      <th>user_id</th>\n",
       "      <th>cohort_id</th>\n",
       "      <th>ip</th>\n",
       "      <th>year</th>\n",
       "      <th>month</th>\n",
       "      <th>day</th>\n",
       "      <th>hour</th>\n",
       "      <th>weekday</th>\n",
       "      <th>int_ip</th>\n",
       "      <th>ada</th>\n",
       "    </tr>\n",
       "    <tr>\n",
       "      <th>datetime</th>\n",
       "      <th></th>\n",
       "      <th></th>\n",
       "      <th></th>\n",
       "      <th></th>\n",
       "      <th></th>\n",
       "      <th></th>\n",
       "      <th></th>\n",
       "      <th></th>\n",
       "      <th></th>\n",
       "      <th></th>\n",
       "      <th></th>\n",
       "    </tr>\n",
       "  </thead>\n",
       "  <tbody>\n",
       "    <tr>\n",
       "      <th>2018-01-26 09:55:03</th>\n",
       "      <td>/</td>\n",
       "      <td>1</td>\n",
       "      <td>8</td>\n",
       "      <td>97.105.19.61</td>\n",
       "      <td>2018</td>\n",
       "      <td>1</td>\n",
       "      <td>26</td>\n",
       "      <td>9</td>\n",
       "      <td>Friday</td>\n",
       "      <td>1634276157</td>\n",
       "      <td>False</td>\n",
       "    </tr>\n",
       "    <tr>\n",
       "      <th>2018-01-26 09:56:02</th>\n",
       "      <td>java-ii</td>\n",
       "      <td>1</td>\n",
       "      <td>8</td>\n",
       "      <td>97.105.19.61</td>\n",
       "      <td>2018</td>\n",
       "      <td>1</td>\n",
       "      <td>26</td>\n",
       "      <td>9</td>\n",
       "      <td>Friday</td>\n",
       "      <td>1634276157</td>\n",
       "      <td>False</td>\n",
       "    </tr>\n",
       "    <tr>\n",
       "      <th>2018-01-26 09:56:05</th>\n",
       "      <td>java-ii/object-oriented-programming</td>\n",
       "      <td>1</td>\n",
       "      <td>8</td>\n",
       "      <td>97.105.19.61</td>\n",
       "      <td>2018</td>\n",
       "      <td>1</td>\n",
       "      <td>26</td>\n",
       "      <td>9</td>\n",
       "      <td>Friday</td>\n",
       "      <td>1634276157</td>\n",
       "      <td>False</td>\n",
       "    </tr>\n",
       "    <tr>\n",
       "      <th>2018-01-26 09:56:06</th>\n",
       "      <td>slides/object_oriented_programming</td>\n",
       "      <td>1</td>\n",
       "      <td>8</td>\n",
       "      <td>97.105.19.61</td>\n",
       "      <td>2018</td>\n",
       "      <td>1</td>\n",
       "      <td>26</td>\n",
       "      <td>9</td>\n",
       "      <td>Friday</td>\n",
       "      <td>1634276157</td>\n",
       "      <td>False</td>\n",
       "    </tr>\n",
       "    <tr>\n",
       "      <th>2018-01-26 09:56:24</th>\n",
       "      <td>javascript-i/conditionals</td>\n",
       "      <td>2</td>\n",
       "      <td>22</td>\n",
       "      <td>97.105.19.61</td>\n",
       "      <td>2018</td>\n",
       "      <td>1</td>\n",
       "      <td>26</td>\n",
       "      <td>9</td>\n",
       "      <td>Friday</td>\n",
       "      <td>1634276157</td>\n",
       "      <td>False</td>\n",
       "    </tr>\n",
       "  </tbody>\n",
       "</table>\n",
       "</div>"
      ],
      "text/plain": [
       "                                             page_viewed user_id cohort_id  \\\n",
       "datetime                                                                     \n",
       "2018-01-26 09:55:03                                    /       1         8   \n",
       "2018-01-26 09:56:02                              java-ii       1         8   \n",
       "2018-01-26 09:56:05  java-ii/object-oriented-programming       1         8   \n",
       "2018-01-26 09:56:06   slides/object_oriented_programming       1         8   \n",
       "2018-01-26 09:56:24            javascript-i/conditionals       2        22   \n",
       "\n",
       "                               ip  year month day hour weekday      int_ip  \\\n",
       "datetime                                                                     \n",
       "2018-01-26 09:55:03  97.105.19.61  2018     1  26    9  Friday  1634276157   \n",
       "2018-01-26 09:56:02  97.105.19.61  2018     1  26    9  Friday  1634276157   \n",
       "2018-01-26 09:56:05  97.105.19.61  2018     1  26    9  Friday  1634276157   \n",
       "2018-01-26 09:56:06  97.105.19.61  2018     1  26    9  Friday  1634276157   \n",
       "2018-01-26 09:56:24  97.105.19.61  2018     1  26    9  Friday  1634276157   \n",
       "\n",
       "                       ada  \n",
       "datetime                    \n",
       "2018-01-26 09:55:03  False  \n",
       "2018-01-26 09:56:02  False  \n",
       "2018-01-26 09:56:05  False  \n",
       "2018-01-26 09:56:06  False  \n",
       "2018-01-26 09:56:24  False  "
      ]
     },
     "execution_count": 63,
     "metadata": {},
     "output_type": "execute_result"
    }
   ],
   "source": [
    "df['ada'] = (df.cohort_id > 330) & (df.cohort_id > 372)\n",
    "df.head()"
   ]
  },
  {
   "cell_type": "code",
   "execution_count": 56,
   "metadata": {},
   "outputs": [
    {
     "data": {
      "text/plain": [
       "False    719459\n",
       "Name: ada, dtype: int64"
      ]
     },
     "execution_count": 56,
     "metadata": {},
     "output_type": "execute_result"
    }
   ],
   "source": [
    "df.ada.value_counts()\n",
    "# df = df[df.ada == True]\n",
    "# df.head()"
   ]
  },
  {
   "cell_type": "markdown",
   "metadata": {},
   "source": [
    "#### Cohort: Andromeda"
   ]
  },
  {
   "cell_type": "code",
   "execution_count": 40,
   "metadata": {},
   "outputs": [],
   "source": [
    "andromeda = df[df.cohort_id == 31]"
   ]
  },
  {
   "cell_type": "code",
   "execution_count": 41,
   "metadata": {},
   "outputs": [],
   "source": [
    "# 32,Betelgeuse,2019-05-28,2019-10-08,2"
   ]
  },
  {
   "cell_type": "code",
   "execution_count": 42,
   "metadata": {},
   "outputs": [],
   "source": [
    "# 33,Ceres,2019-07-15,2019-12-11,2"
   ]
  },
  {
   "cell_type": "code",
   "execution_count": 43,
   "metadata": {},
   "outputs": [],
   "source": [
    "# 34,Bayes,2019-08-19,2020-01-30,3"
   ]
  },
  {
   "cell_type": "code",
   "execution_count": 44,
   "metadata": {},
   "outputs": [],
   "source": [
    "# 51,Deimos,2019-09-16,2020-02-27,2"
   ]
  },
  {
   "cell_type": "code",
   "execution_count": 45,
   "metadata": {},
   "outputs": [],
   "source": [
    "# 52,Europa,2019-11-04,2020-04-17,2"
   ]
  },
  {
   "cell_type": "code",
   "execution_count": 46,
   "metadata": {},
   "outputs": [],
   "source": [
    "# 53,Fortuna,2020-01-13,2020-06-23,2"
   ]
  },
  {
   "cell_type": "code",
   "execution_count": 47,
   "metadata": {},
   "outputs": [],
   "source": [
    "# 55,Curie,2020-02-03,2020-07-07,3"
   ]
  },
  {
   "cell_type": "code",
   "execution_count": 48,
   "metadata": {},
   "outputs": [],
   "source": [
    "# 56,Apex,2020-02-24,2020-07-29,2"
   ]
  },
  {
   "cell_type": "code",
   "execution_count": 49,
   "metadata": {},
   "outputs": [],
   "source": [
    "# 57,Ganymede,2020-03-23,2020-08-20,2"
   ]
  },
  {
   "cell_type": "code",
   "execution_count": 50,
   "metadata": {},
   "outputs": [],
   "source": [
    "# 58,Hyperion,2020-05-26,2020-11-10,2"
   ]
  },
  {
   "cell_type": "code",
   "execution_count": 51,
   "metadata": {},
   "outputs": [],
   "source": [
    "# 59,Darden,2020-07-13,2021-01-12,3"
   ]
  },
  {
   "cell_type": "code",
   "execution_count": 52,
   "metadata": {},
   "outputs": [],
   "source": [
    "# 60,Io,2020-07-20,2021-01-21,2"
   ]
  },
  {
   "cell_type": "code",
   "execution_count": 53,
   "metadata": {},
   "outputs": [],
   "source": [
    "# 61,Bash,2020-07-20,2021-01-21,2"
   ]
  },
  {
   "cell_type": "code",
   "execution_count": 54,
   "metadata": {},
   "outputs": [],
   "source": [
    "# 62,Jupiter,2020-09-21,2021-03-30,2"
   ]
  },
  {
   "cell_type": "code",
   "execution_count": 55,
   "metadata": {},
   "outputs": [],
   "source": [
    "# 132,Kalypso,2020-11-02,2021-05-04,2"
   ]
  },
  {
   "cell_type": "code",
   "execution_count": null,
   "metadata": {},
   "outputs": [],
   "source": []
  }
 ],
 "metadata": {
  "kernelspec": {
   "display_name": "Python 3",
   "language": "python",
   "name": "python3"
  },
  "language_info": {
   "codemirror_mode": {
    "name": "ipython",
    "version": 3
   },
   "file_extension": ".py",
   "mimetype": "text/x-python",
   "name": "python",
   "nbconvert_exporter": "python",
   "pygments_lexer": "ipython3",
   "version": "3.8.5"
  }
 },
 "nbformat": 4,
 "nbformat_minor": 4
}
