{
 "cells": [
  {
   "cell_type": "markdown",
   "metadata": {},
   "source": [
    "### Anomaly Detection Mini Project\n",
    "#### Corey Solitaire\n",
    "`11.09.2020`"
   ]
  },
  {
   "cell_type": "markdown",
   "metadata": {},
   "source": [
    "<div class=\"alert alert-block alert-info\"><b></b></div>"
   ]
  },
  {
   "cell_type": "markdown",
   "metadata": {},
   "source": [
    "#### Imports:"
   ]
  },
  {
   "cell_type": "code",
   "execution_count": 1,
   "metadata": {},
   "outputs": [],
   "source": [
    "\n",
    "import wrangle\n",
    "import explore\n",
    "import numpy as np\n",
    "import pandas as pd\n",
    "import math\n",
    "from sklearn import metrics\n",
    "\n",
    "from scipy.stats import entropy\n",
    "\n",
    "import warnings\n",
    "warnings.filterwarnings(\"ignore\")\n",
    "import matplotlib.pyplot as plt\n",
    "import matplotlib.dates as mdates #to format dates on our plots\n",
    "import seaborn as sns\n",
    "\n",
    "# This is to make sure matplotlib doesn't throw the following error:\n",
    "# The next line fixes \"TypeError: float() argument must be a string or a number, not 'Timestamp' matplotlib\"\n",
    "pd.plotting.register_matplotlib_converters()"
   ]
  },
  {
   "cell_type": "markdown",
   "metadata": {},
   "source": [
    "<div class=\"alert alert-block alert-info\"><b></b></div>"
   ]
  },
  {
   "cell_type": "markdown",
   "metadata": {},
   "source": [
    "### Import wrangle df:"
   ]
  },
  {
   "cell_type": "code",
   "execution_count": 2,
   "metadata": {},
   "outputs": [
    {
     "data": {
      "text/html": [
       "<div>\n",
       "<style scoped>\n",
       "    .dataframe tbody tr th:only-of-type {\n",
       "        vertical-align: middle;\n",
       "    }\n",
       "\n",
       "    .dataframe tbody tr th {\n",
       "        vertical-align: top;\n",
       "    }\n",
       "\n",
       "    .dataframe thead th {\n",
       "        text-align: right;\n",
       "    }\n",
       "</style>\n",
       "<table border=\"1\" class=\"dataframe\">\n",
       "  <thead>\n",
       "    <tr style=\"text-align: right;\">\n",
       "      <th></th>\n",
       "      <th>page_viewed</th>\n",
       "      <th>user_id</th>\n",
       "      <th>cohort_id</th>\n",
       "      <th>ip</th>\n",
       "      <th>year</th>\n",
       "      <th>month</th>\n",
       "      <th>day</th>\n",
       "      <th>hour</th>\n",
       "      <th>weekday</th>\n",
       "      <th>int_ip</th>\n",
       "      <th>cohort_id_int</th>\n",
       "    </tr>\n",
       "    <tr>\n",
       "      <th>datetime</th>\n",
       "      <th></th>\n",
       "      <th></th>\n",
       "      <th></th>\n",
       "      <th></th>\n",
       "      <th></th>\n",
       "      <th></th>\n",
       "      <th></th>\n",
       "      <th></th>\n",
       "      <th></th>\n",
       "      <th></th>\n",
       "      <th></th>\n",
       "    </tr>\n",
       "  </thead>\n",
       "  <tbody>\n",
       "    <tr>\n",
       "      <th>2018-01-26 09:55:03</th>\n",
       "      <td>/</td>\n",
       "      <td>1</td>\n",
       "      <td>8.0</td>\n",
       "      <td>97.105.19.61</td>\n",
       "      <td>2018</td>\n",
       "      <td>1</td>\n",
       "      <td>26</td>\n",
       "      <td>9</td>\n",
       "      <td>Friday</td>\n",
       "      <td>1634276157</td>\n",
       "      <td>Hampton</td>\n",
       "    </tr>\n",
       "    <tr>\n",
       "      <th>2018-01-26 09:56:02</th>\n",
       "      <td>java-ii</td>\n",
       "      <td>1</td>\n",
       "      <td>8.0</td>\n",
       "      <td>97.105.19.61</td>\n",
       "      <td>2018</td>\n",
       "      <td>1</td>\n",
       "      <td>26</td>\n",
       "      <td>9</td>\n",
       "      <td>Friday</td>\n",
       "      <td>1634276157</td>\n",
       "      <td>Hampton</td>\n",
       "    </tr>\n",
       "    <tr>\n",
       "      <th>2018-01-26 09:56:05</th>\n",
       "      <td>java-ii/object-oriented-programming</td>\n",
       "      <td>1</td>\n",
       "      <td>8.0</td>\n",
       "      <td>97.105.19.61</td>\n",
       "      <td>2018</td>\n",
       "      <td>1</td>\n",
       "      <td>26</td>\n",
       "      <td>9</td>\n",
       "      <td>Friday</td>\n",
       "      <td>1634276157</td>\n",
       "      <td>Hampton</td>\n",
       "    </tr>\n",
       "    <tr>\n",
       "      <th>2018-01-26 09:56:06</th>\n",
       "      <td>slides/object_oriented_programming</td>\n",
       "      <td>1</td>\n",
       "      <td>8.0</td>\n",
       "      <td>97.105.19.61</td>\n",
       "      <td>2018</td>\n",
       "      <td>1</td>\n",
       "      <td>26</td>\n",
       "      <td>9</td>\n",
       "      <td>Friday</td>\n",
       "      <td>1634276157</td>\n",
       "      <td>Hampton</td>\n",
       "    </tr>\n",
       "    <tr>\n",
       "      <th>2018-01-26 09:56:24</th>\n",
       "      <td>javascript-i/conditionals</td>\n",
       "      <td>2</td>\n",
       "      <td>22.0</td>\n",
       "      <td>97.105.19.61</td>\n",
       "      <td>2018</td>\n",
       "      <td>1</td>\n",
       "      <td>26</td>\n",
       "      <td>9</td>\n",
       "      <td>Friday</td>\n",
       "      <td>1634276157</td>\n",
       "      <td>Teddy</td>\n",
       "    </tr>\n",
       "  </tbody>\n",
       "</table>\n",
       "</div>"
      ],
      "text/plain": [
       "                                             page_viewed  user_id  cohort_id  \\\n",
       "datetime                                                                       \n",
       "2018-01-26 09:55:03                                    /        1        8.0   \n",
       "2018-01-26 09:56:02                              java-ii        1        8.0   \n",
       "2018-01-26 09:56:05  java-ii/object-oriented-programming        1        8.0   \n",
       "2018-01-26 09:56:06   slides/object_oriented_programming        1        8.0   \n",
       "2018-01-26 09:56:24            javascript-i/conditionals        2       22.0   \n",
       "\n",
       "                               ip  year  month  day  hour weekday      int_ip  \\\n",
       "datetime                                                                        \n",
       "2018-01-26 09:55:03  97.105.19.61  2018      1   26     9  Friday  1634276157   \n",
       "2018-01-26 09:56:02  97.105.19.61  2018      1   26     9  Friday  1634276157   \n",
       "2018-01-26 09:56:05  97.105.19.61  2018      1   26     9  Friday  1634276157   \n",
       "2018-01-26 09:56:06  97.105.19.61  2018      1   26     9  Friday  1634276157   \n",
       "2018-01-26 09:56:24  97.105.19.61  2018      1   26     9  Friday  1634276157   \n",
       "\n",
       "                    cohort_id_int  \n",
       "datetime                           \n",
       "2018-01-26 09:55:03       Hampton  \n",
       "2018-01-26 09:56:02       Hampton  \n",
       "2018-01-26 09:56:05       Hampton  \n",
       "2018-01-26 09:56:06       Hampton  \n",
       "2018-01-26 09:56:24         Teddy  "
      ]
     },
     "execution_count": 2,
     "metadata": {},
     "output_type": "execute_result"
    }
   ],
   "source": [
    "# Returns complete df\n",
    "df = wrangle.read_csv()\n",
    "df = wrangle.wrangle_df(df)\n",
    "df.head()"
   ]
  },
  {
   "cell_type": "code",
   "execution_count": 3,
   "metadata": {},
   "outputs": [
    {
     "data": {
      "text/html": [
       "<div>\n",
       "<style scoped>\n",
       "    .dataframe tbody tr th:only-of-type {\n",
       "        vertical-align: middle;\n",
       "    }\n",
       "\n",
       "    .dataframe tbody tr th {\n",
       "        vertical-align: top;\n",
       "    }\n",
       "\n",
       "    .dataframe thead th {\n",
       "        text-align: right;\n",
       "    }\n",
       "</style>\n",
       "<table border=\"1\" class=\"dataframe\">\n",
       "  <thead>\n",
       "    <tr style=\"text-align: right;\">\n",
       "      <th></th>\n",
       "      <th>page_viewed</th>\n",
       "      <th>user_id</th>\n",
       "      <th>cohort_id</th>\n",
       "      <th>ip</th>\n",
       "      <th>year</th>\n",
       "      <th>month</th>\n",
       "      <th>day</th>\n",
       "      <th>hour</th>\n",
       "      <th>weekday</th>\n",
       "      <th>int_ip</th>\n",
       "      <th>cohort_id_int</th>\n",
       "    </tr>\n",
       "    <tr>\n",
       "      <th>datetime</th>\n",
       "      <th></th>\n",
       "      <th></th>\n",
       "      <th></th>\n",
       "      <th></th>\n",
       "      <th></th>\n",
       "      <th></th>\n",
       "      <th></th>\n",
       "      <th></th>\n",
       "      <th></th>\n",
       "      <th></th>\n",
       "      <th></th>\n",
       "    </tr>\n",
       "  </thead>\n",
       "  <tbody>\n",
       "    <tr>\n",
       "      <th>2019-01-23 14:24:33</th>\n",
       "      <td>/</td>\n",
       "      <td>346</td>\n",
       "      <td>30.0</td>\n",
       "      <td>97.105.19.58</td>\n",
       "      <td>2019</td>\n",
       "      <td>1</td>\n",
       "      <td>23</td>\n",
       "      <td>14</td>\n",
       "      <td>Wednesday</td>\n",
       "      <td>1634276154</td>\n",
       "      <td>Ada</td>\n",
       "    </tr>\n",
       "    <tr>\n",
       "      <th>2019-01-23 14:24:55</th>\n",
       "      <td>toc</td>\n",
       "      <td>346</td>\n",
       "      <td>30.0</td>\n",
       "      <td>97.105.19.58</td>\n",
       "      <td>2019</td>\n",
       "      <td>1</td>\n",
       "      <td>23</td>\n",
       "      <td>14</td>\n",
       "      <td>Wednesday</td>\n",
       "      <td>1634276154</td>\n",
       "      <td>Ada</td>\n",
       "    </tr>\n",
       "    <tr>\n",
       "      <th>2019-01-23 14:24:58</th>\n",
       "      <td>html-css/introduction</td>\n",
       "      <td>346</td>\n",
       "      <td>30.0</td>\n",
       "      <td>97.105.19.58</td>\n",
       "      <td>2019</td>\n",
       "      <td>1</td>\n",
       "      <td>23</td>\n",
       "      <td>14</td>\n",
       "      <td>Wednesday</td>\n",
       "      <td>1634276154</td>\n",
       "      <td>Ada</td>\n",
       "    </tr>\n",
       "    <tr>\n",
       "      <th>2019-01-23 14:25:07</th>\n",
       "      <td>html-css/introduction</td>\n",
       "      <td>346</td>\n",
       "      <td>30.0</td>\n",
       "      <td>97.105.19.58</td>\n",
       "      <td>2019</td>\n",
       "      <td>1</td>\n",
       "      <td>23</td>\n",
       "      <td>14</td>\n",
       "      <td>Wednesday</td>\n",
       "      <td>1634276154</td>\n",
       "      <td>Ada</td>\n",
       "    </tr>\n",
       "    <tr>\n",
       "      <th>2019-01-23 14:25:17</th>\n",
       "      <td>html-css/elements</td>\n",
       "      <td>346</td>\n",
       "      <td>30.0</td>\n",
       "      <td>97.105.19.58</td>\n",
       "      <td>2019</td>\n",
       "      <td>1</td>\n",
       "      <td>23</td>\n",
       "      <td>14</td>\n",
       "      <td>Wednesday</td>\n",
       "      <td>1634276154</td>\n",
       "      <td>Ada</td>\n",
       "    </tr>\n",
       "  </tbody>\n",
       "</table>\n",
       "</div>"
      ],
      "text/plain": [
       "                               page_viewed  user_id  cohort_id            ip  \\\n",
       "datetime                                                                       \n",
       "2019-01-23 14:24:33                      /      346       30.0  97.105.19.58   \n",
       "2019-01-23 14:24:55                    toc      346       30.0  97.105.19.58   \n",
       "2019-01-23 14:24:58  html-css/introduction      346       30.0  97.105.19.58   \n",
       "2019-01-23 14:25:07  html-css/introduction      346       30.0  97.105.19.58   \n",
       "2019-01-23 14:25:17      html-css/elements      346       30.0  97.105.19.58   \n",
       "\n",
       "                     year  month  day  hour    weekday      int_ip  \\\n",
       "datetime                                                             \n",
       "2019-01-23 14:24:33  2019      1   23    14  Wednesday  1634276154   \n",
       "2019-01-23 14:24:55  2019      1   23    14  Wednesday  1634276154   \n",
       "2019-01-23 14:24:58  2019      1   23    14  Wednesday  1634276154   \n",
       "2019-01-23 14:25:07  2019      1   23    14  Wednesday  1634276154   \n",
       "2019-01-23 14:25:17  2019      1   23    14  Wednesday  1634276154   \n",
       "\n",
       "                    cohort_id_int  \n",
       "datetime                           \n",
       "2019-01-23 14:24:33           Ada  \n",
       "2019-01-23 14:24:55           Ada  \n",
       "2019-01-23 14:24:58           Ada  \n",
       "2019-01-23 14:25:07           Ada  \n",
       "2019-01-23 14:25:17           Ada  "
      ]
     },
     "execution_count": 3,
     "metadata": {},
     "output_type": "execute_result"
    }
   ],
   "source": [
    "# Return ds student df\n",
    "ds = wrangle.ds_df(df)\n",
    "ds.head()"
   ]
  },
  {
   "cell_type": "code",
   "execution_count": 4,
   "metadata": {},
   "outputs": [
    {
     "data": {
      "text/html": [
       "<div>\n",
       "<style scoped>\n",
       "    .dataframe tbody tr th:only-of-type {\n",
       "        vertical-align: middle;\n",
       "    }\n",
       "\n",
       "    .dataframe tbody tr th {\n",
       "        vertical-align: top;\n",
       "    }\n",
       "\n",
       "    .dataframe thead th {\n",
       "        text-align: right;\n",
       "    }\n",
       "</style>\n",
       "<table border=\"1\" class=\"dataframe\">\n",
       "  <thead>\n",
       "    <tr style=\"text-align: right;\">\n",
       "      <th></th>\n",
       "      <th>page_viewed</th>\n",
       "      <th>user_id</th>\n",
       "      <th>cohort_id</th>\n",
       "      <th>ip</th>\n",
       "      <th>year</th>\n",
       "      <th>month</th>\n",
       "      <th>day</th>\n",
       "      <th>hour</th>\n",
       "      <th>weekday</th>\n",
       "      <th>int_ip</th>\n",
       "      <th>cohort_id_int</th>\n",
       "    </tr>\n",
       "    <tr>\n",
       "      <th>datetime</th>\n",
       "      <th></th>\n",
       "      <th></th>\n",
       "      <th></th>\n",
       "      <th></th>\n",
       "      <th></th>\n",
       "      <th></th>\n",
       "      <th></th>\n",
       "      <th></th>\n",
       "      <th></th>\n",
       "      <th></th>\n",
       "      <th></th>\n",
       "    </tr>\n",
       "  </thead>\n",
       "  <tbody>\n",
       "    <tr>\n",
       "      <th>2018-01-26 09:55:03</th>\n",
       "      <td>/</td>\n",
       "      <td>1</td>\n",
       "      <td>8.0</td>\n",
       "      <td>97.105.19.61</td>\n",
       "      <td>2018</td>\n",
       "      <td>1</td>\n",
       "      <td>26</td>\n",
       "      <td>9</td>\n",
       "      <td>Friday</td>\n",
       "      <td>1634276157</td>\n",
       "      <td>Hampton</td>\n",
       "    </tr>\n",
       "    <tr>\n",
       "      <th>2018-01-26 09:56:02</th>\n",
       "      <td>java-ii</td>\n",
       "      <td>1</td>\n",
       "      <td>8.0</td>\n",
       "      <td>97.105.19.61</td>\n",
       "      <td>2018</td>\n",
       "      <td>1</td>\n",
       "      <td>26</td>\n",
       "      <td>9</td>\n",
       "      <td>Friday</td>\n",
       "      <td>1634276157</td>\n",
       "      <td>Hampton</td>\n",
       "    </tr>\n",
       "    <tr>\n",
       "      <th>2018-01-26 09:56:05</th>\n",
       "      <td>java-ii/object-oriented-programming</td>\n",
       "      <td>1</td>\n",
       "      <td>8.0</td>\n",
       "      <td>97.105.19.61</td>\n",
       "      <td>2018</td>\n",
       "      <td>1</td>\n",
       "      <td>26</td>\n",
       "      <td>9</td>\n",
       "      <td>Friday</td>\n",
       "      <td>1634276157</td>\n",
       "      <td>Hampton</td>\n",
       "    </tr>\n",
       "    <tr>\n",
       "      <th>2018-01-26 09:56:06</th>\n",
       "      <td>slides/object_oriented_programming</td>\n",
       "      <td>1</td>\n",
       "      <td>8.0</td>\n",
       "      <td>97.105.19.61</td>\n",
       "      <td>2018</td>\n",
       "      <td>1</td>\n",
       "      <td>26</td>\n",
       "      <td>9</td>\n",
       "      <td>Friday</td>\n",
       "      <td>1634276157</td>\n",
       "      <td>Hampton</td>\n",
       "    </tr>\n",
       "    <tr>\n",
       "      <th>2018-01-26 09:56:24</th>\n",
       "      <td>javascript-i/conditionals</td>\n",
       "      <td>2</td>\n",
       "      <td>22.0</td>\n",
       "      <td>97.105.19.61</td>\n",
       "      <td>2018</td>\n",
       "      <td>1</td>\n",
       "      <td>26</td>\n",
       "      <td>9</td>\n",
       "      <td>Friday</td>\n",
       "      <td>1634276157</td>\n",
       "      <td>Teddy</td>\n",
       "    </tr>\n",
       "  </tbody>\n",
       "</table>\n",
       "</div>"
      ],
      "text/plain": [
       "                                             page_viewed  user_id  cohort_id  \\\n",
       "datetime                                                                       \n",
       "2018-01-26 09:55:03                                    /        1        8.0   \n",
       "2018-01-26 09:56:02                              java-ii        1        8.0   \n",
       "2018-01-26 09:56:05  java-ii/object-oriented-programming        1        8.0   \n",
       "2018-01-26 09:56:06   slides/object_oriented_programming        1        8.0   \n",
       "2018-01-26 09:56:24            javascript-i/conditionals        2       22.0   \n",
       "\n",
       "                               ip  year  month  day  hour weekday      int_ip  \\\n",
       "datetime                                                                        \n",
       "2018-01-26 09:55:03  97.105.19.61  2018      1   26     9  Friday  1634276157   \n",
       "2018-01-26 09:56:02  97.105.19.61  2018      1   26     9  Friday  1634276157   \n",
       "2018-01-26 09:56:05  97.105.19.61  2018      1   26     9  Friday  1634276157   \n",
       "2018-01-26 09:56:06  97.105.19.61  2018      1   26     9  Friday  1634276157   \n",
       "2018-01-26 09:56:24  97.105.19.61  2018      1   26     9  Friday  1634276157   \n",
       "\n",
       "                    cohort_id_int  \n",
       "datetime                           \n",
       "2018-01-26 09:55:03       Hampton  \n",
       "2018-01-26 09:56:02       Hampton  \n",
       "2018-01-26 09:56:05       Hampton  \n",
       "2018-01-26 09:56:06       Hampton  \n",
       "2018-01-26 09:56:24         Teddy  "
      ]
     },
     "execution_count": 4,
     "metadata": {},
     "output_type": "execute_result"
    }
   ],
   "source": [
    "# Returns webdev student df\n",
    "web = wrangle.webdev_df(df)\n",
    "web.head()"
   ]
  },
  {
   "cell_type": "markdown",
   "metadata": {},
   "source": [
    "****"
   ]
  },
  {
   "cell_type": "markdown",
   "metadata": {},
   "source": [
    "<div class=\"alert alert-block alert-info\"><b></b></div>"
   ]
  },
  {
   "cell_type": "markdown",
   "metadata": {},
   "source": [
    "## First Step is to ID Cohorts:\n",
    "\n",
    "explore.cohort_id(df, year, month, day, hour)\n",
    "***"
   ]
  },
  {
   "cell_type": "code",
   "execution_count": 5,
   "metadata": {},
   "outputs": [],
   "source": [
    "# 21,Sequoia,2017-09-27,2018-02-15,2\n",
    "# Cohort ID #21 I think"
   ]
  },
  {
   "cell_type": "markdown",
   "metadata": {},
   "source": [
    "#### Cohort Teddy"
   ]
  },
  {
   "cell_type": "code",
   "execution_count": 6,
   "metadata": {},
   "outputs": [],
   "source": [
    "# 22,Teddy,2018-01-08,2018-05-17,2\n",
    "# test = explore.cohort_id(df,2018,1,26,10)"
   ]
  },
  {
   "cell_type": "code",
   "execution_count": 7,
   "metadata": {},
   "outputs": [],
   "source": [
    "# teddy = df[df.cohort_id == 22]\n",
    "# len(teddy.user_id.unique())"
   ]
  },
  {
   "cell_type": "markdown",
   "metadata": {},
   "source": [
    "#### Cohort Ulysses"
   ]
  },
  {
   "cell_type": "code",
   "execution_count": 8,
   "metadata": {},
   "outputs": [],
   "source": [
    "# 23,Ulysses,2018-03-05,2018-07-19,2\n",
    "# test = explore.cohort_id(df,2018,3,5,10)"
   ]
  },
  {
   "cell_type": "code",
   "execution_count": 9,
   "metadata": {},
   "outputs": [],
   "source": [
    "# ulysses = df[df.cohort_id == 23]\n",
    "# len(ulysses.user_id.unique())"
   ]
  },
  {
   "cell_type": "markdown",
   "metadata": {},
   "source": [
    "#### Cohort Voyagers"
   ]
  },
  {
   "cell_type": "code",
   "execution_count": 10,
   "metadata": {},
   "outputs": [],
   "source": [
    "# 24,Voyageurs,2018-05-29,2018-10-11,2\n",
    "# test = explore.cohort_id(df,2018,5,29,10)"
   ]
  },
  {
   "cell_type": "code",
   "execution_count": 11,
   "metadata": {},
   "outputs": [],
   "source": [
    "# voyagers = df[df.cohort_id == 24]\n",
    "# len(voyagers.user_id.unique())"
   ]
  },
  {
   "cell_type": "markdown",
   "metadata": {},
   "source": [
    "#### Cohort Wranglell"
   ]
  },
  {
   "cell_type": "code",
   "execution_count": 12,
   "metadata": {},
   "outputs": [],
   "source": [
    "# 25,Wrangell,2018-07-23,2018-11-29,2\n",
    "# test = explore.cohort_id(df,2018,7,23,10)"
   ]
  },
  {
   "cell_type": "code",
   "execution_count": 13,
   "metadata": {},
   "outputs": [],
   "source": [
    "# wranglell = df[df.cohort_id == 25]\n",
    "# len(wranglell.user_id.unique())"
   ]
  },
  {
   "cell_type": "markdown",
   "metadata": {},
   "source": [
    "#### Cohort Xanadu"
   ]
  },
  {
   "cell_type": "code",
   "execution_count": 14,
   "metadata": {},
   "outputs": [],
   "source": [
    "# 26,Xanadu,2018-09-17,2019-02-08,2\n",
    "# test = explore.cohort_id(df,2018,9,17,10)"
   ]
  },
  {
   "cell_type": "code",
   "execution_count": 15,
   "metadata": {},
   "outputs": [],
   "source": [
    "# xanadu = df[df.cohort_id == 26]\n",
    "# len(xanadu.user_id.unique())"
   ]
  },
  {
   "cell_type": "markdown",
   "metadata": {},
   "source": [
    "#### Cohort Yosemite"
   ]
  },
  {
   "cell_type": "code",
   "execution_count": 16,
   "metadata": {},
   "outputs": [],
   "source": [
    "# 27,Yosemite,2018-11-05,2019-04-03,2\n",
    "# test = explore.cohort_id(df,2018,11,5,10)"
   ]
  },
  {
   "cell_type": "code",
   "execution_count": 17,
   "metadata": {},
   "outputs": [],
   "source": [
    "# yosemite = df[df.cohort_id == 27]\n",
    "# len(yosemite.user_id.unique())"
   ]
  },
  {
   "cell_type": "markdown",
   "metadata": {},
   "source": [
    "#### Staff"
   ]
  },
  {
   "cell_type": "code",
   "execution_count": 18,
   "metadata": {},
   "outputs": [],
   "source": [
    "# 28,Staff,2014-02-04,2014-02-04,2\n",
    "# staff = df[df.cohort_id == 28]\n",
    "# len(staff.user_id.unique())"
   ]
  },
  {
   "cell_type": "markdown",
   "metadata": {},
   "source": [
    "`Staff are listed under the webdev cohorts (2)`"
   ]
  },
  {
   "cell_type": "markdown",
   "metadata": {},
   "source": [
    "****"
   ]
  },
  {
   "cell_type": "markdown",
   "metadata": {},
   "source": [
    "#### Cohort Zion"
   ]
  },
  {
   "cell_type": "code",
   "execution_count": 19,
   "metadata": {},
   "outputs": [],
   "source": [
    "# 29,Zion,2019-01-22,2019-06-04,2\n",
    "# test = explore.cohort_id(df,2019,1,22,9)"
   ]
  },
  {
   "cell_type": "code",
   "execution_count": 20,
   "metadata": {},
   "outputs": [],
   "source": [
    "# zion = df[df.cohort_id == 29]\n",
    "# len(zion.user_id.unique())"
   ]
  },
  {
   "cell_type": "markdown",
   "metadata": {},
   "source": [
    "#### Cohort Ada"
   ]
  },
  {
   "cell_type": "markdown",
   "metadata": {},
   "source": [
    "`To determine Ada`\n",
    "1. Identified Ada to be missing cohort_id, correct time span returned Nan\n",
    "2. 75 user_id were missing cohort_id\n",
    "3. Sorted user_id untill found id's that matched time period"
   ]
  },
  {
   "cell_type": "code",
   "execution_count": 21,
   "metadata": {},
   "outputs": [],
   "source": [
    "# ada = df[df.cohort_id == 0]\n",
    "# len(ada.user_id.unique())"
   ]
  },
  {
   "cell_type": "code",
   "execution_count": 22,
   "metadata": {},
   "outputs": [],
   "source": [
    "# To find ada must find not ada first\n",
    "# ada = ada[ada.user_id != 48]\n",
    "# ada = ada[ada.user_id != 54]\n",
    "# ada = ada[ada.user_id != 58]\n",
    "# ada = ada[ada.user_id != 59]\n",
    "# ada = ada[ada.user_id != 61]\n",
    "# ada = ada[ada.user_id != 62]\n",
    "# ada = ada[ada.user_id != 63]\n",
    "# ada = ada[ada.user_id != 64]\n",
    "# ada = ada[ada.user_id != 73]\n",
    "# ada = ada[ada.user_id != 74]\n",
    "# ada = ada[ada.user_id != 78]\n",
    "# ada = ada[ada.user_id != 79]\n",
    "# ada = ada[ada.user_id != 86]\n",
    "# ada = ada[ada.user_id != 88]\n",
    "# ada = ada[ada.user_id != 89]\n",
    "# ada = ada[ada.user_id != 100]\n",
    "# ada = ada[ada.user_id != 103]\n",
    "# ada = ada[ada.user_id != 111]\n",
    "# ada = ada[ada.user_id != 137]\n",
    "# ada = ada[ada.user_id != 166]\n",
    "# ada = ada[ada.user_id != 176]\n",
    "# ada = ada[ada.user_id != 213]\n",
    "# ada = ada[ada.user_id != 247]\n",
    "# ada = ada[ada.user_id != 317]\n",
    "# ada = ada[ada.user_id != 782]\n",
    "# ada = ada[ada.user_id != 744]\n",
    "# ada = ada[ada.user_id != 736]\n",
    "# ada = ada[ada.user_id != 731]\n",
    "# ada = ada[ada.user_id != 729]\n",
    "# ada = ada[ada.user_id != 728]\n",
    "# ada = ada[ada.user_id != 727]\n",
    "# ada = ada[ada.user_id != 726]\n",
    "# ada = ada[ada.user_id != 725]\n",
    "# ada = ada[ada.user_id != 724]\n",
    "# ada = ada[ada.user_id != 723]\n",
    "# ada = ada[ada.user_id != 722]\n",
    "# ada = ada[ada.user_id != 721]\n",
    "# ada = ada[ada.user_id != 720]\n",
    "# ada = ada[ada.user_id != 719]\n",
    "# ada = ada[ada.user_id != 718]\n",
    "# ada = ada[ada.user_id != 717]\n",
    "# ada = ada[ada.user_id != 716]\n",
    "# ada = ada[ada.user_id != 715]\n",
    "# ada = ada[ada.user_id != 714]\n",
    "# ada = ada[ada.user_id != 713]\n",
    "# ada = ada[ada.user_id != 663]\n",
    "# ada = ada[ada.user_id != 644]\n",
    "# ada = ada[ada.user_id != 544]\n",
    "# ada = ada[ada.user_id != 429]\n",
    "# ada = ada[ada.user_id != 406]\n",
    "# ada = ada[ada.user_id != 403]\n",
    "# ada['cohort_id'] = ada['cohort_id'].replace(0,30)\n",
    "# ada.head()"
   ]
  },
  {
   "cell_type": "code",
   "execution_count": 23,
   "metadata": {},
   "outputs": [],
   "source": [
    "# len(ada)"
   ]
  },
  {
   "cell_type": "code",
   "execution_count": 24,
   "metadata": {},
   "outputs": [],
   "source": [
    "# len(ada.user_id.unique())"
   ]
  },
  {
   "cell_type": "markdown",
   "metadata": {},
   "source": [
    "#### Cohort: Andromeda"
   ]
  },
  {
   "cell_type": "code",
   "execution_count": 25,
   "metadata": {},
   "outputs": [],
   "source": [
    "# 31,Andromeda,2019-03-18,2019-07-30,2\n",
    "# andromeda = df[df.cohort_id == 31]\n",
    "# len(andromeda.user_id.unique())"
   ]
  },
  {
   "cell_type": "markdown",
   "metadata": {},
   "source": [
    "#### Cohort Betelgeuse"
   ]
  },
  {
   "cell_type": "code",
   "execution_count": 26,
   "metadata": {},
   "outputs": [],
   "source": [
    "# 32,Betelgeuse,2019-05-28,2019-10-08,2\n",
    "# betelgeuse = df[df.cohort_id == 32]\n",
    "# len(betelgeuse.user_id.unique())"
   ]
  },
  {
   "cell_type": "markdown",
   "metadata": {},
   "source": [
    "#### Cohort Ceres"
   ]
  },
  {
   "cell_type": "code",
   "execution_count": 27,
   "metadata": {},
   "outputs": [],
   "source": [
    "# 33,Ceres,2019-07-15,2019-12-11,2\n",
    "# ceres = df[df.cohort_id == 33]\n",
    "# len(ceres.user_id.unique())"
   ]
  },
  {
   "cell_type": "markdown",
   "metadata": {},
   "source": [
    "#### Cohort Bayes"
   ]
  },
  {
   "cell_type": "code",
   "execution_count": 28,
   "metadata": {},
   "outputs": [],
   "source": [
    "# 34,Bayes,2019-08-19,2020-01-30,3\n",
    "# bayes = df[df.cohort_id == 34]\n",
    "# len(bayes.user_id.unique())"
   ]
  },
  {
   "cell_type": "markdown",
   "metadata": {},
   "source": [
    "#### Cohort Deimos"
   ]
  },
  {
   "cell_type": "code",
   "execution_count": 29,
   "metadata": {},
   "outputs": [],
   "source": [
    "# 51,Deimos,2019-09-16,2020-02-27,2\n",
    "# deimos = df[df.cohort_id == 51]\n",
    "# len(deimos.user_id.unique())"
   ]
  },
  {
   "cell_type": "markdown",
   "metadata": {},
   "source": [
    "#### Cohort Europa"
   ]
  },
  {
   "cell_type": "code",
   "execution_count": 30,
   "metadata": {},
   "outputs": [],
   "source": [
    "# 52,Europa,2019-11-04,2020-04-17,2\n",
    "# europa = df[df.cohort_id == 52]\n",
    "# len(europa.user_id.unique())"
   ]
  },
  {
   "cell_type": "markdown",
   "metadata": {},
   "source": [
    "#### Cohort Fortuna"
   ]
  },
  {
   "cell_type": "code",
   "execution_count": 31,
   "metadata": {},
   "outputs": [],
   "source": [
    "# 53,Fortuna,2020-01-13,2020-06-23,2\n",
    "# fortuna = df[df.cohort_id == 53]\n",
    "# len(fortuna.user_id.unique())"
   ]
  },
  {
   "cell_type": "markdown",
   "metadata": {},
   "source": [
    "#### Cohort Curie"
   ]
  },
  {
   "cell_type": "code",
   "execution_count": 32,
   "metadata": {},
   "outputs": [],
   "source": [
    "# 55,Curie,2020-02-03,2020-07-07,3\n",
    "# curie = df[df.cohort_id == 55]\n",
    "# len(curie.user_id.unique())"
   ]
  },
  {
   "cell_type": "markdown",
   "metadata": {},
   "source": [
    "#### Cohort Apex"
   ]
  },
  {
   "cell_type": "code",
   "execution_count": 33,
   "metadata": {},
   "outputs": [],
   "source": [
    "# 56,Apex,2020-02-24,2020-07-29,2\n",
    "# apex = df[df.cohort_id == 56]\n",
    "# len(apex.user_id.unique())"
   ]
  },
  {
   "cell_type": "markdown",
   "metadata": {},
   "source": [
    "#### Cohort Ganymede"
   ]
  },
  {
   "cell_type": "code",
   "execution_count": 34,
   "metadata": {},
   "outputs": [],
   "source": [
    "# 57,Ganymede,2020-03-23,2020-08-20,2\n",
    "# ganymead = df[df.cohort_id == 57]\n",
    "# len(ganymead.user_id.unique())"
   ]
  },
  {
   "cell_type": "markdown",
   "metadata": {},
   "source": [
    "#### Cohort Hyperion"
   ]
  },
  {
   "cell_type": "code",
   "execution_count": 35,
   "metadata": {},
   "outputs": [],
   "source": [
    "# 58,Hyperion,2020-05-26,2020-11-10,2\n",
    "# hyperion = df[df.cohort_id == 58]\n",
    "# len(hyperion.user_id.unique())"
   ]
  },
  {
   "cell_type": "markdown",
   "metadata": {},
   "source": [
    "#### Cohort Darden"
   ]
  },
  {
   "cell_type": "code",
   "execution_count": 36,
   "metadata": {},
   "outputs": [],
   "source": [
    "# 59,Darden,2020-07-13,2021-01-12,3\n",
    "# darden = df[df.cohort_id == 59]\n",
    "# len(darden.user_id.unique())"
   ]
  },
  {
   "cell_type": "markdown",
   "metadata": {},
   "source": [
    "#### Cohort Io"
   ]
  },
  {
   "cell_type": "code",
   "execution_count": 37,
   "metadata": {},
   "outputs": [],
   "source": [
    "# 60,Io,2020-07-20,2021-01-21,2\n",
    "# io = df[df.cohort_id == 61]\n",
    "# len(io.user_id.unique())"
   ]
  },
  {
   "cell_type": "markdown",
   "metadata": {},
   "source": [
    "#### Cohort Bash"
   ]
  },
  {
   "cell_type": "code",
   "execution_count": 38,
   "metadata": {},
   "outputs": [],
   "source": [
    "# 61,Bash,2020-07-20,2021-01-21,2\n",
    "# bash = df[df.cohort_id == 0]\n",
    "# bash = bash[bash.user_id != 48]\n",
    "# bash = bash[bash.user_id != 54]\n",
    "# bash = bash[bash.user_id != 58]\n",
    "# bash = bash[bash.user_id != 59]\n",
    "# bash = bash[bash.user_id != 61]\n",
    "# bash = bash[bash.user_id != 62]\n",
    "# bash = bash[bash.user_id != 63]\n",
    "# bash = bash[bash.user_id != 64]\n",
    "# bash = bash[bash.user_id != 73]\n",
    "# bash = bash[bash.user_id != 74]\n",
    "# bash = bash[bash.user_id != 78]\n",
    "# bash = bash[bash.user_id != 79]\n",
    "# bash = bash[bash.user_id != 86]\n",
    "# bash = bash[bash.user_id != 88]\n",
    "# bash = bash[bash.user_id != 89]\n",
    "# bash = bash[bash.user_id != 100]\n",
    "# bash = bash[bash.user_id != 103]\n",
    "# bash = bash[bash.user_id != 111]\n",
    "# bash = bash[bash.user_id != 137]\n",
    "# bash = bash[bash.user_id != 166]\n",
    "# bash = bash[bash.user_id != 176]\n",
    "# bash = bash[bash.user_id != 213]\n",
    "# bash = bash[bash.user_id != 247]\n",
    "# bash = bash[bash.user_id != 317]\n",
    "# bash = bash[bash.user_id != 663]\n",
    "# bash = bash[bash.user_id != 644]\n",
    "# bash = bash[bash.user_id != 544]\n",
    "# bash = bash[bash.user_id != 429]\n",
    "# bash = bash[bash.user_id != 406]\n",
    "# bash = bash[bash.user_id != 403]\n",
    "# bash = bash[bash.user_id != 349]\n",
    "# bash = bash[bash.user_id != 350]\n",
    "# bash = bash[bash.user_id != 351]\n",
    "# bash = bash[bash.user_id != 352]\n",
    "# bash = bash[bash.user_id != 353]\n",
    "# bash = bash[bash.user_id != 354] \n",
    "# bash = bash[bash.user_id != 355]\n",
    "# bash = bash[bash.user_id != 356] \n",
    "# bash = bash[bash.user_id != 357] \n",
    "# bash = bash[bash.user_id != 358] \n",
    "# bash = bash[bash.user_id != 359] \n",
    "# bash = bash[bash.user_id != 360]           \n",
    "# bash = bash[bash.user_id != 361]\n",
    "# bash = bash[bash.user_id != 362]\n",
    "# bash = bash[bash.user_id != 363] \n",
    "# bash = bash[bash.user_id != 364]\n",
    "# bash = bash[bash.user_id != 365]\n",
    "# bash = bash[bash.user_id != 366]\n",
    "# bash = bash[bash.user_id != 367]\n",
    "# bash = bash[bash.user_id != 368]\n",
    "# bash = bash[bash.user_id != 369]\n",
    "# bash = bash[bash.user_id != 372]\n",
    "# bash = bash[bash.user_id != 375]\n",
    "# bash = bash[bash.user_id != 346]\n",
    "# bash['cohort_id'] = bash['cohort_id'].replace(0,60)\n",
    "# bash.head()"
   ]
  },
  {
   "cell_type": "code",
   "execution_count": 39,
   "metadata": {},
   "outputs": [],
   "source": [
    "# len(bash.user_id.unique())"
   ]
  },
  {
   "cell_type": "markdown",
   "metadata": {},
   "source": [
    "#### Cohort Jupyter"
   ]
  },
  {
   "cell_type": "code",
   "execution_count": 40,
   "metadata": {},
   "outputs": [],
   "source": [
    "# 62,Jupiter,2020-09-21,2021-03-30,2\n",
    "# jupyter = df[df.cohort_id == 62]\n",
    "# len(jupyter.user_id.unique())"
   ]
  },
  {
   "cell_type": "code",
   "execution_count": 41,
   "metadata": {},
   "outputs": [],
   "source": [
    "# jupyter.head()"
   ]
  },
  {
   "cell_type": "code",
   "execution_count": 42,
   "metadata": {},
   "outputs": [],
   "source": [
    "# jupyter.tail()"
   ]
  },
  {
   "cell_type": "markdown",
   "metadata": {},
   "source": [
    "#### Cohort Kalypso"
   ]
  },
  {
   "cell_type": "code",
   "execution_count": 43,
   "metadata": {},
   "outputs": [],
   "source": [
    "# 132,Kalypso,2020-11-02,2021-05-04,2\n",
    "# test = explore.cohort_id(df,2020,11,2,10)\n",
    "# test.tail(100)"
   ]
  },
  {
   "cell_type": "markdown",
   "metadata": {},
   "source": [
    "`No Evidence of Cohort in df`"
   ]
  },
  {
   "cell_type": "markdown",
   "metadata": {},
   "source": [
    "****"
   ]
  },
  {
   "cell_type": "markdown",
   "metadata": {},
   "source": [
    "## Takaway:\n",
    "\n",
    "1. It appears that student_id numbers have changed over time.\n",
    "2. Cohorts were created using best availiable data and are not 100% reliable\n",
    "3. Anyone that was unable to be assigned to a cohort was lumped in to 'unknown'\n",
    "4. 'unknown'is where I will be searching for malevolent actors and web scraping bots"
   ]
  },
  {
   "cell_type": "markdown",
   "metadata": {},
   "source": [
    "<div class=\"alert alert-block alert-info\"><b></b></div>"
   ]
  },
  {
   "cell_type": "markdown",
   "metadata": {},
   "source": [
    "# Questions to Answer:\n",
    "****\n",
    "  1. Which lesson appears to attract the most traffic consistently across cohorts (per program)?\n",
    "\n",
    "\n",
    "  2. Is there a cohort that referred to a lesson significantly more that other cohorts seemed to gloss over? \n",
    "\n",
    "\n",
    "  3. Are there students who, when active, hardly access the curriculum? If so, what information do you have about these students? \n",
    "\n",
    "\n",
    "  4. Is there any suspicious activity, such as users/machines/etc accessing the curriculum who shouldn’t be? Does it appear that any web-scraping is happening? Are there any suspicious IP addresses? Any odd user-agents? \n",
    "\n",
    "\n",
    "  5. At some point in the last year, ability for students and alumni to cross-access curriculum (web dev to ds, ds to web dev) should have been shut off. Do you see any evidence of that happening? Did it happen before? \n",
    "\n",
    "\n",
    "  6. What topics are grads continuing to reference after graduation and into their jobs (for each program)? \n",
    "\n",
    "\n",
    "  7. Which lessons are least accessed? \n",
    "\n",
    "\n",
    "  8. Anything else I should be aware of? "
   ]
  },
  {
   "cell_type": "markdown",
   "metadata": {},
   "source": [
    "<div class=\"alert alert-block alert-info\"><b></b></div>"
   ]
  },
  {
   "cell_type": "markdown",
   "metadata": {},
   "source": [
    "## Question #1: Which lesson appears to attract the most traffic consistently across cohorts (per program)?"
   ]
  },
  {
   "cell_type": "markdown",
   "metadata": {},
   "source": [
    "****\n",
    "#### First Step : Identify lessons per cohort"
   ]
  },
  {
   "cell_type": "code",
   "execution_count": 132,
   "metadata": {},
   "outputs": [
    {
     "data": {
      "text/html": [
       "<div>\n",
       "<style scoped>\n",
       "    .dataframe tbody tr th:only-of-type {\n",
       "        vertical-align: middle;\n",
       "    }\n",
       "\n",
       "    .dataframe tbody tr th {\n",
       "        vertical-align: top;\n",
       "    }\n",
       "\n",
       "    .dataframe thead th {\n",
       "        text-align: right;\n",
       "    }\n",
       "</style>\n",
       "<table border=\"1\" class=\"dataframe\">\n",
       "  <thead>\n",
       "    <tr style=\"text-align: right;\">\n",
       "      <th></th>\n",
       "      <th>page_viewed</th>\n",
       "      <th>user_id</th>\n",
       "      <th>cohort_id</th>\n",
       "      <th>ip</th>\n",
       "      <th>year</th>\n",
       "      <th>month</th>\n",
       "      <th>day</th>\n",
       "      <th>hour</th>\n",
       "      <th>weekday</th>\n",
       "      <th>int_ip</th>\n",
       "      <th>cohort_id_int</th>\n",
       "      <th>fundimentals</th>\n",
       "    </tr>\n",
       "    <tr>\n",
       "      <th>datetime</th>\n",
       "      <th></th>\n",
       "      <th></th>\n",
       "      <th></th>\n",
       "      <th></th>\n",
       "      <th></th>\n",
       "      <th></th>\n",
       "      <th></th>\n",
       "      <th></th>\n",
       "      <th></th>\n",
       "      <th></th>\n",
       "      <th></th>\n",
       "      <th></th>\n",
       "    </tr>\n",
       "  </thead>\n",
       "  <tbody>\n",
       "    <tr>\n",
       "      <th>2020-11-02 15:57:29</th>\n",
       "      <td>fundamentals/git</td>\n",
       "      <td>616</td>\n",
       "      <td>55.0</td>\n",
       "      <td>70.114.9.241</td>\n",
       "      <td>2020</td>\n",
       "      <td>11</td>\n",
       "      <td>2</td>\n",
       "      <td>15</td>\n",
       "      <td>Monday</td>\n",
       "      <td>1181878769</td>\n",
       "      <td>Curie</td>\n",
       "      <td>9536</td>\n",
       "    </tr>\n",
       "  </tbody>\n",
       "</table>\n",
       "</div>"
      ],
      "text/plain": [
       "                          page_viewed  user_id  cohort_id            ip  year  \\\n",
       "datetime                                                                        \n",
       "2020-11-02 15:57:29  fundamentals/git      616       55.0  70.114.9.241  2020   \n",
       "\n",
       "                     month  day  hour weekday      int_ip cohort_id_int  \\\n",
       "datetime                                                                  \n",
       "2020-11-02 15:57:29     11    2    15  Monday  1181878769         Curie   \n",
       "\n",
       "                     fundimentals  \n",
       "datetime                           \n",
       "2020-11-02 15:57:29          9536  "
      ]
     },
     "execution_count": 132,
     "metadata": {},
     "output_type": "execute_result"
    }
   ],
   "source": [
    "# Data Science:\n",
    "ds.tail(1)"
   ]
  },
  {
   "cell_type": "code",
   "execution_count": 167,
   "metadata": {},
   "outputs": [
    {
     "data": {
      "text/html": [
       "<div>\n",
       "<style scoped>\n",
       "    .dataframe tbody tr th:only-of-type {\n",
       "        vertical-align: middle;\n",
       "    }\n",
       "\n",
       "    .dataframe tbody tr th {\n",
       "        vertical-align: top;\n",
       "    }\n",
       "\n",
       "    .dataframe thead th {\n",
       "        text-align: right;\n",
       "    }\n",
       "</style>\n",
       "<table border=\"1\" class=\"dataframe\">\n",
       "  <thead>\n",
       "    <tr style=\"text-align: right;\">\n",
       "      <th></th>\n",
       "      <th>fundimentals</th>\n",
       "      <th>stats</th>\n",
       "      <th>sql</th>\n",
       "      <th>python</th>\n",
       "      <th>regression</th>\n",
       "      <th>classification</th>\n",
       "      <th>clustering</th>\n",
       "      <th>time_series</th>\n",
       "      <th>anomoly_detection</th>\n",
       "      <th>natural_language</th>\n",
       "      <th>distributed_machine_learning</th>\n",
       "      <th>storytelling</th>\n",
       "      <th>advanced_topics</th>\n",
       "    </tr>\n",
       "  </thead>\n",
       "  <tbody>\n",
       "    <tr>\n",
       "      <th>0</th>\n",
       "      <td>9536</td>\n",
       "      <td>5263</td>\n",
       "      <td>9445</td>\n",
       "      <td>7502</td>\n",
       "      <td>6810</td>\n",
       "      <td>7364</td>\n",
       "      <td>7502</td>\n",
       "      <td>7999</td>\n",
       "      <td>2502</td>\n",
       "      <td>2020</td>\n",
       "      <td>1101</td>\n",
       "      <td>2431</td>\n",
       "      <td>1831</td>\n",
       "    </tr>\n",
       "  </tbody>\n",
       "</table>\n",
       "</div>"
      ],
      "text/plain": [
       "   fundimentals  stats   sql  python  regression  classification  clustering  \\\n",
       "0          9536   5263  9445    7502        6810            7364        7502   \n",
       "\n",
       "   time_series  anomoly_detection  natural_language  \\\n",
       "0         7999               2502              2020   \n",
       "\n",
       "   distributed_machine_learning  storytelling  advanced_topics  \n",
       "0                          1101          2431             1831  "
      ]
     },
     "execution_count": 167,
     "metadata": {},
     "output_type": "execute_result"
    }
   ],
   "source": [
    "ds_curriculum = pd.DataFrame({'fundimentals': [ds.page_viewed.str.contains('fundamentals').sum()],\n",
    "                              'stats': [ds.page_viewed.str.contains('stats').sum()],\n",
    "                              'sql': [ds.page_viewed.str.contains('sql').sum()],\n",
    "                              'python': [ds.page_viewed.str.contains('python').sum()],\n",
    "                              'regression': [ds.page_viewed.str.contains('regression').sum()],\n",
    "                              'classification': [ds.page_viewed.str.contains('classification').sum()],\n",
    "                              'clustering': [ds.page_viewed.str.contains('python').sum()],\n",
    "                              'time_series': [ds.page_viewed.str.contains('time').sum() | ds.page_viewed.str.contains('series').sum()],\n",
    "                              'anomoly_detection': [ds.page_viewed.str.contains('anomoly').sum() | ds.page_viewed.str.contains('detection').sum()],\n",
    "                              'natural_language': [ds.page_viewed.str.contains('nlp').sum()],\n",
    "                              'distributed_machine_learning': [ds.page_viewed.str.contains('distributed').sum()],\n",
    "                              'storytelling': [ds.page_viewed.str.contains('story').sum() | ds.page_viewed.str.contains('telling').sum()],\n",
    "                              'advanced_topics': [ds.page_viewed.str.contains('advanced').sum() | ds.page_viewed.str.contains('topics').sum()]})\n",
    "ds_curriculum"
   ]
  },
  {
   "cell_type": "markdown",
   "metadata": {},
   "source": [
    "***\n",
    "`Takeaway:`   \n",
    "**1. Fundimentals is the most visited lesson, followed closely by sql**      \n",
    "**2. Distributed machine learning and advanced topics were the least visited lesson**      "
   ]
  },
  {
   "cell_type": "markdown",
   "metadata": {},
   "source": [
    "<div class=\"alert alert-block alert-info\"><b></b></div>"
   ]
  },
  {
   "cell_type": "code",
   "execution_count": 133,
   "metadata": {},
   "outputs": [
    {
     "data": {
      "text/html": [
       "<div>\n",
       "<style scoped>\n",
       "    .dataframe tbody tr th:only-of-type {\n",
       "        vertical-align: middle;\n",
       "    }\n",
       "\n",
       "    .dataframe tbody tr th {\n",
       "        vertical-align: top;\n",
       "    }\n",
       "\n",
       "    .dataframe thead th {\n",
       "        text-align: right;\n",
       "    }\n",
       "</style>\n",
       "<table border=\"1\" class=\"dataframe\">\n",
       "  <thead>\n",
       "    <tr style=\"text-align: right;\">\n",
       "      <th></th>\n",
       "      <th>page_viewed</th>\n",
       "      <th>user_id</th>\n",
       "      <th>cohort_id</th>\n",
       "      <th>ip</th>\n",
       "      <th>year</th>\n",
       "      <th>month</th>\n",
       "      <th>day</th>\n",
       "      <th>hour</th>\n",
       "      <th>weekday</th>\n",
       "      <th>int_ip</th>\n",
       "      <th>cohort_id_int</th>\n",
       "    </tr>\n",
       "    <tr>\n",
       "      <th>datetime</th>\n",
       "      <th></th>\n",
       "      <th></th>\n",
       "      <th></th>\n",
       "      <th></th>\n",
       "      <th></th>\n",
       "      <th></th>\n",
       "      <th></th>\n",
       "      <th></th>\n",
       "      <th></th>\n",
       "      <th></th>\n",
       "      <th></th>\n",
       "    </tr>\n",
       "  </thead>\n",
       "  <tbody>\n",
       "    <tr>\n",
       "      <th>2018-01-26 09:55:03</th>\n",
       "      <td>/</td>\n",
       "      <td>1</td>\n",
       "      <td>8.0</td>\n",
       "      <td>97.105.19.61</td>\n",
       "      <td>2018</td>\n",
       "      <td>1</td>\n",
       "      <td>26</td>\n",
       "      <td>9</td>\n",
       "      <td>Friday</td>\n",
       "      <td>1634276157</td>\n",
       "      <td>Hampton</td>\n",
       "    </tr>\n",
       "  </tbody>\n",
       "</table>\n",
       "</div>"
      ],
      "text/plain": [
       "                    page_viewed  user_id  cohort_id            ip  year  \\\n",
       "datetime                                                                  \n",
       "2018-01-26 09:55:03           /        1        8.0  97.105.19.61  2018   \n",
       "\n",
       "                     month  day  hour weekday      int_ip cohort_id_int  \n",
       "datetime                                                                 \n",
       "2018-01-26 09:55:03      1   26     9  Friday  1634276157       Hampton  "
      ]
     },
     "execution_count": 133,
     "metadata": {},
     "output_type": "execute_result"
    }
   ],
   "source": [
    "#web dev\n",
    "web.head(1)"
   ]
  },
  {
   "cell_type": "code",
   "execution_count": 169,
   "metadata": {},
   "outputs": [],
   "source": [
    "web_curriculum = pd.DataFrame({'html': [web.page_viewed.str.contains('html').sum()],\n",
    "                               'css': [web.page_viewed.str.contains('css').sum()],\n",
    "                               'git': [web.page_viewed.str.contains('git').sum()],\n",
    "                               'javascript': [web.page_viewed.str.contains('javascript').sum()],\n",
    "                               'tdd': [web.page_viewed.str.contains('tdd').sum()],\n",
    "                               'jQuery': [web.page_viewed.str.contains('jquery').sum()],\n",
    "                               'java_i': [web.page_viewed.str.contains('java-i').sum()],\n",
    "                               'java_ii': [web.page_viewed.str.contains('java-ii').sum()],\n",
    "                               'mysql': [web.page_viewed.str.contains('sql').sum()],\n",
    "                               'java_iii': [web.page_viewed.str.contains('java-iii').sum()],\n",
    "                               'spring': [web.page_viewed.str.contains('spring').sum()]})\n"
   ]
  },
  {
   "cell_type": "code",
   "execution_count": 170,
   "metadata": {},
   "outputs": [
    {
     "data": {
      "text/html": [
       "<div>\n",
       "<style scoped>\n",
       "    .dataframe tbody tr th:only-of-type {\n",
       "        vertical-align: middle;\n",
       "    }\n",
       "\n",
       "    .dataframe tbody tr th {\n",
       "        vertical-align: top;\n",
       "    }\n",
       "\n",
       "    .dataframe thead th {\n",
       "        text-align: right;\n",
       "    }\n",
       "</style>\n",
       "<table border=\"1\" class=\"dataframe\">\n",
       "  <thead>\n",
       "    <tr style=\"text-align: right;\">\n",
       "      <th></th>\n",
       "      <th>html</th>\n",
       "      <th>css</th>\n",
       "      <th>git</th>\n",
       "      <th>javascript</th>\n",
       "      <th>tdd</th>\n",
       "      <th>jQuery</th>\n",
       "      <th>java_i</th>\n",
       "      <th>java_ii</th>\n",
       "      <th>mysql</th>\n",
       "      <th>java_iii</th>\n",
       "      <th>spring</th>\n",
       "    </tr>\n",
       "  </thead>\n",
       "  <tbody>\n",
       "    <tr>\n",
       "      <th>0</th>\n",
       "      <td>84984</td>\n",
       "      <td>76564</td>\n",
       "      <td>4326</td>\n",
       "      <td>125403</td>\n",
       "      <td>1281</td>\n",
       "      <td>46102</td>\n",
       "      <td>115472</td>\n",
       "      <td>83241</td>\n",
       "      <td>66373</td>\n",
       "      <td>40936</td>\n",
       "      <td>45328</td>\n",
       "    </tr>\n",
       "  </tbody>\n",
       "</table>\n",
       "</div>"
      ],
      "text/plain": [
       "    html    css   git  javascript   tdd  jQuery  java_i  java_ii  mysql  \\\n",
       "0  84984  76564  4326      125403  1281   46102  115472    83241  66373   \n",
       "\n",
       "   java_iii  spring  \n",
       "0     40936   45328  "
      ]
     },
     "execution_count": 170,
     "metadata": {},
     "output_type": "execute_result"
    }
   ],
   "source": [
    "web_curriculum"
   ]
  },
  {
   "cell_type": "markdown",
   "metadata": {},
   "source": [
    "***\n",
    "`Takeaway:`   \n",
    "**1. javascript is the most visited lesson, followed closely by java i and html**      \n",
    "**2. tdd (test driven development) and git were the least visited lesson**      "
   ]
  },
  {
   "cell_type": "markdown",
   "metadata": {},
   "source": [
    "<div class=\"alert alert-block alert-info\"><b></b></div>"
   ]
  },
  {
   "cell_type": "code",
   "execution_count": null,
   "metadata": {},
   "outputs": [],
   "source": []
  },
  {
   "cell_type": "code",
   "execution_count": null,
   "metadata": {},
   "outputs": [],
   "source": []
  },
  {
   "cell_type": "code",
   "execution_count": null,
   "metadata": {},
   "outputs": [],
   "source": []
  },
  {
   "cell_type": "code",
   "execution_count": null,
   "metadata": {},
   "outputs": [],
   "source": []
  },
  {
   "cell_type": "code",
   "execution_count": null,
   "metadata": {},
   "outputs": [],
   "source": []
  },
  {
   "cell_type": "code",
   "execution_count": null,
   "metadata": {},
   "outputs": [],
   "source": []
  },
  {
   "cell_type": "code",
   "execution_count": null,
   "metadata": {},
   "outputs": [],
   "source": []
  },
  {
   "cell_type": "code",
   "execution_count": null,
   "metadata": {},
   "outputs": [],
   "source": []
  },
  {
   "cell_type": "code",
   "execution_count": null,
   "metadata": {},
   "outputs": [],
   "source": []
  },
  {
   "cell_type": "code",
   "execution_count": null,
   "metadata": {},
   "outputs": [],
   "source": []
  },
  {
   "cell_type": "code",
   "execution_count": null,
   "metadata": {},
   "outputs": [],
   "source": []
  },
  {
   "cell_type": "code",
   "execution_count": null,
   "metadata": {},
   "outputs": [],
   "source": []
  },
  {
   "cell_type": "code",
   "execution_count": null,
   "metadata": {},
   "outputs": [],
   "source": []
  }
 ],
 "metadata": {
  "kernelspec": {
   "display_name": "Python 3",
   "language": "python",
   "name": "python3"
  },
  "language_info": {
   "codemirror_mode": {
    "name": "ipython",
    "version": 3
   },
   "file_extension": ".py",
   "mimetype": "text/x-python",
   "name": "python",
   "nbconvert_exporter": "python",
   "pygments_lexer": "ipython3",
   "version": "3.8.5"
  }
 },
 "nbformat": 4,
 "nbformat_minor": 4
}
