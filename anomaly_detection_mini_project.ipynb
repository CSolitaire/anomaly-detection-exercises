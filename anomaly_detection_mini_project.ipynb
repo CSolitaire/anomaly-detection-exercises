{
 "cells": [
  {
   "cell_type": "markdown",
   "metadata": {},
   "source": [
    "### Anomaly Detection Mini Project\n",
    "#### Corey Solitaire\n",
    "`11.09.2020`"
   ]
  },
  {
   "cell_type": "markdown",
   "metadata": {},
   "source": [
    "<div class=\"alert alert-block alert-info\"><b></b>"
   ]
  },
  {
   "cell_type": "markdown",
   "metadata": {},
   "source": [
    "#### Imports:"
   ]
  },
  {
   "cell_type": "code",
   "execution_count": 17,
   "metadata": {},
   "outputs": [],
   "source": [
    "\n",
    "import wrangle\n",
    "import explore\n",
    "import numpy as np\n",
    "import pandas as pd\n",
    "import math\n",
    "from sklearn import metrics\n",
    "\n",
    "from scipy.stats import entropy\n",
    "\n",
    "import warnings\n",
    "warnings.filterwarnings(\"ignore\")\n",
    "import matplotlib.pyplot as plt\n",
    "import matplotlib.dates as mdates #to format dates on our plots\n",
    "import seaborn as sns\n",
    "\n",
    "# This is to make sure matplotlib doesn't throw the following error:\n",
    "# The next line fixes \"TypeError: float() argument must be a string or a number, not 'Timestamp' matplotlib\"\n",
    "pd.plotting.register_matplotlib_converters()"
   ]
  },
  {
   "cell_type": "markdown",
   "metadata": {},
   "source": [
    "<div class=\"alert alert-block alert-info\"><b></b>"
   ]
  },
  {
   "cell_type": "markdown",
   "metadata": {},
   "source": [
    "### Import wrangle df:"
   ]
  },
  {
   "cell_type": "code",
   "execution_count": 2,
   "metadata": {},
   "outputs": [
    {
     "data": {
      "text/html": [
       "<div>\n",
       "<style scoped>\n",
       "    .dataframe tbody tr th:only-of-type {\n",
       "        vertical-align: middle;\n",
       "    }\n",
       "\n",
       "    .dataframe tbody tr th {\n",
       "        vertical-align: top;\n",
       "    }\n",
       "\n",
       "    .dataframe thead th {\n",
       "        text-align: right;\n",
       "    }\n",
       "</style>\n",
       "<table border=\"1\" class=\"dataframe\">\n",
       "  <thead>\n",
       "    <tr style=\"text-align: right;\">\n",
       "      <th></th>\n",
       "      <th>page_viewed</th>\n",
       "      <th>user_id</th>\n",
       "      <th>cohort_id</th>\n",
       "      <th>ip</th>\n",
       "      <th>year</th>\n",
       "      <th>month</th>\n",
       "      <th>day</th>\n",
       "      <th>hour</th>\n",
       "      <th>weekday</th>\n",
       "      <th>int_ip</th>\n",
       "    </tr>\n",
       "    <tr>\n",
       "      <th>datetime</th>\n",
       "      <th></th>\n",
       "      <th></th>\n",
       "      <th></th>\n",
       "      <th></th>\n",
       "      <th></th>\n",
       "      <th></th>\n",
       "      <th></th>\n",
       "      <th></th>\n",
       "      <th></th>\n",
       "      <th></th>\n",
       "    </tr>\n",
       "  </thead>\n",
       "  <tbody>\n",
       "    <tr>\n",
       "      <th>2018-01-26 09:55:03</th>\n",
       "      <td>/</td>\n",
       "      <td>1</td>\n",
       "      <td>8</td>\n",
       "      <td>97.105.19.61</td>\n",
       "      <td>2018</td>\n",
       "      <td>1</td>\n",
       "      <td>26</td>\n",
       "      <td>9</td>\n",
       "      <td>Friday</td>\n",
       "      <td>1634276157</td>\n",
       "    </tr>\n",
       "  </tbody>\n",
       "</table>\n",
       "</div>"
      ],
      "text/plain": [
       "                    page_viewed user_id cohort_id            ip  year month  \\\n",
       "datetime                                                                      \n",
       "2018-01-26 09:55:03           /       1         8  97.105.19.61  2018     1   \n",
       "\n",
       "                    day hour weekday      int_ip  \n",
       "datetime                                          \n",
       "2018-01-26 09:55:03  26    9  Friday  1634276157  "
      ]
     },
     "execution_count": 2,
     "metadata": {},
     "output_type": "execute_result"
    }
   ],
   "source": [
    "df = wrangle.read_csv()\n",
    "df = wrangle.wrangle_df(df)\n",
    "df.head(1)"
   ]
  },
  {
   "cell_type": "code",
   "execution_count": 3,
   "metadata": {},
   "outputs": [
    {
     "data": {
      "text/html": [
       "<div>\n",
       "<style scoped>\n",
       "    .dataframe tbody tr th:only-of-type {\n",
       "        vertical-align: middle;\n",
       "    }\n",
       "\n",
       "    .dataframe tbody tr th {\n",
       "        vertical-align: top;\n",
       "    }\n",
       "\n",
       "    .dataframe thead th {\n",
       "        text-align: right;\n",
       "    }\n",
       "</style>\n",
       "<table border=\"1\" class=\"dataframe\">\n",
       "  <thead>\n",
       "    <tr style=\"text-align: right;\">\n",
       "      <th></th>\n",
       "      <th>page_viewed</th>\n",
       "      <th>user_id</th>\n",
       "      <th>cohort_id</th>\n",
       "      <th>ip</th>\n",
       "      <th>year</th>\n",
       "      <th>month</th>\n",
       "      <th>day</th>\n",
       "      <th>hour</th>\n",
       "      <th>weekday</th>\n",
       "      <th>int_ip</th>\n",
       "    </tr>\n",
       "    <tr>\n",
       "      <th>datetime</th>\n",
       "      <th></th>\n",
       "      <th></th>\n",
       "      <th></th>\n",
       "      <th></th>\n",
       "      <th></th>\n",
       "      <th></th>\n",
       "      <th></th>\n",
       "      <th></th>\n",
       "      <th></th>\n",
       "      <th></th>\n",
       "    </tr>\n",
       "  </thead>\n",
       "  <tbody>\n",
       "    <tr>\n",
       "      <th>2020-11-02 16:48:47</th>\n",
       "      <td>javascript-i/bom-and-dom/bom</td>\n",
       "      <td>763</td>\n",
       "      <td>62</td>\n",
       "      <td>107.192.148.199</td>\n",
       "      <td>2020</td>\n",
       "      <td>11</td>\n",
       "      <td>2</td>\n",
       "      <td>16</td>\n",
       "      <td>Monday</td>\n",
       "      <td>1807783111</td>\n",
       "    </tr>\n",
       "  </tbody>\n",
       "</table>\n",
       "</div>"
      ],
      "text/plain": [
       "                                      page_viewed user_id cohort_id  \\\n",
       "datetime                                                              \n",
       "2020-11-02 16:48:47  javascript-i/bom-and-dom/bom     763        62   \n",
       "\n",
       "                                  ip  year month day hour weekday      int_ip  \n",
       "datetime                                                                       \n",
       "2020-11-02 16:48:47  107.192.148.199  2020    11   2   16  Monday  1807783111  "
      ]
     },
     "execution_count": 3,
     "metadata": {},
     "output_type": "execute_result"
    }
   ],
   "source": [
    "df.tail(1)"
   ]
  },
  {
   "cell_type": "code",
   "execution_count": 43,
   "metadata": {},
   "outputs": [
    {
     "name": "stdout",
     "output_type": "stream",
     "text": [
      "<class 'pandas.core.frame.DataFrame'>\n",
      "DatetimeIndex: 719459 entries, 2018-01-26 09:55:03 to 2020-11-02 16:48:47\n",
      "Data columns (total 10 columns):\n",
      " #   Column       Non-Null Count   Dtype \n",
      "---  ------       --------------   ----- \n",
      " 0   page_viewed  719458 non-null  object\n",
      " 1   user_id      719459 non-null  object\n",
      " 2   cohort_id    674619 non-null  object\n",
      " 3   ip           719459 non-null  object\n",
      " 4   year         719459 non-null  object\n",
      " 5   month        719459 non-null  object\n",
      " 6   day          719459 non-null  object\n",
      " 7   hour         719459 non-null  object\n",
      " 8   weekday      719459 non-null  object\n",
      " 9   int_ip       719459 non-null  int64 \n",
      "dtypes: int64(1), object(9)\n",
      "memory usage: 60.4+ MB\n"
     ]
    }
   ],
   "source": [
    "df.info()"
   ]
  },
  {
   "cell_type": "markdown",
   "metadata": {},
   "source": [
    "`Explore Missing user_id Further`"
   ]
  },
  {
   "cell_type": "markdown",
   "metadata": {},
   "source": [
    "<div class=\"alert alert-block alert-info\"><b></b>"
   ]
  },
  {
   "cell_type": "markdown",
   "metadata": {},
   "source": [
    "# Questions to Answer:\n",
    "****\n",
    "  1. Which lesson appears to attract the most traffic consistently across cohorts (per program)?\n",
    "\n",
    "\n",
    "  2. Is there a cohort that referred to a lesson significantly more that other cohorts seemed to gloss over? \n",
    "\n",
    "\n",
    "  3. Are there students who, when active, hardly access the curriculum? If so, what information do you have about these students? \n",
    "\n",
    "\n",
    "  4. Is there any suspicious activity, such as users/machines/etc accessing the curriculum who shouldn’t be? Does it appear that any web-scraping is happening? Are there any suspicious IP addresses? Any odd user-agents? \n",
    "\n",
    "\n",
    "  5. At some point in the last year, ability for students and alumni to cross-access curriculum (web dev to ds, ds to web dev) should have been shut off. Do you see any evidence of that happening? Did it happen before? \n",
    "\n",
    "\n",
    "  6. What topics are grads continuing to reference after graduation and into their jobs (for each program)? \n",
    "\n",
    "\n",
    "  7. Which lessons are least accessed? \n",
    "\n",
    "\n",
    "  8. Anything else I should be aware of? "
   ]
  },
  {
   "cell_type": "markdown",
   "metadata": {},
   "source": [
    "<div class=\"alert alert-block alert-info\"><b></b>"
   ]
  },
  {
   "cell_type": "markdown",
   "metadata": {},
   "source": [
    "## First Step is to ID Cohorts:\n",
    "\n",
    "explore.cohort_id(df, year, month, day, hour)\n",
    "***"
   ]
  },
  {
   "cell_type": "code",
   "execution_count": null,
   "metadata": {},
   "outputs": [],
   "source": [
    "# 21,Sequoia,2017-09-27,2018-02-15,2\n",
    "# Cohort ID #21 I think"
   ]
  },
  {
   "cell_type": "code",
   "execution_count": 27,
   "metadata": {},
   "outputs": [],
   "source": [
    "# 22,Teddy,2018-01-08,2018-05-17,2 \n",
    "# test = explore.cohort_id(df,2018,1,26,10)\n",
    "# test.head()"
   ]
  },
  {
   "cell_type": "markdown",
   "metadata": {},
   "source": [
    "#### Cohort Teddy"
   ]
  },
  {
   "cell_type": "code",
   "execution_count": 9,
   "metadata": {},
   "outputs": [
    {
     "data": {
      "text/plain": [
       "35"
      ]
     },
     "execution_count": 9,
     "metadata": {},
     "output_type": "execute_result"
    }
   ],
   "source": [
    "teddy = df[df.cohort_id == 22]\n",
    "len(teddy.user_id.unique())"
   ]
  },
  {
   "cell_type": "code",
   "execution_count": 24,
   "metadata": {},
   "outputs": [],
   "source": [
    "# 23,Ulysses,2018-03-05,2018-07-19,2\n",
    "# test = explore.cohort_id(df,2018,3,5,10)\n",
    "# test.head()"
   ]
  },
  {
   "cell_type": "markdown",
   "metadata": {},
   "source": [
    "#### Cohort Ulysses"
   ]
  },
  {
   "cell_type": "code",
   "execution_count": 23,
   "metadata": {},
   "outputs": [
    {
     "data": {
      "text/plain": [
       "13"
      ]
     },
     "execution_count": 23,
     "metadata": {},
     "output_type": "execute_result"
    }
   ],
   "source": [
    "ulysses = df[df.cohort_id == 17]\n",
    "len(ulysses.user_id.unique())"
   ]
  },
  {
   "cell_type": "code",
   "execution_count": 30,
   "metadata": {},
   "outputs": [],
   "source": [
    "# 24,Voyageurs,2018-05-29,2018-10-11,2\n",
    "# test = explore.cohort_id(df,2018,5,29,10)\n",
    "# test.head()"
   ]
  },
  {
   "cell_type": "markdown",
   "metadata": {},
   "source": [
    "#### Cohort Voyagers"
   ]
  },
  {
   "cell_type": "code",
   "execution_count": 29,
   "metadata": {},
   "outputs": [
    {
     "data": {
      "text/plain": [
       "33"
      ]
     },
     "execution_count": 29,
     "metadata": {},
     "output_type": "execute_result"
    }
   ],
   "source": [
    "voyagers = df[df.cohort_id == 23]\n",
    "len(voyagers.user_id.unique())"
   ]
  },
  {
   "cell_type": "code",
   "execution_count": 33,
   "metadata": {},
   "outputs": [],
   "source": [
    "# 25,Wrangell,2018-07-23,2018-11-29,2\n",
    "# test = explore.cohort_id(df,2018,7,23,10)\n",
    "# test.head()"
   ]
  },
  {
   "cell_type": "markdown",
   "metadata": {},
   "source": [
    "#### Cohort Wranglell"
   ]
  },
  {
   "cell_type": "code",
   "execution_count": 32,
   "metadata": {},
   "outputs": [
    {
     "data": {
      "text/plain": [
       "34"
      ]
     },
     "execution_count": 32,
     "metadata": {},
     "output_type": "execute_result"
    }
   ],
   "source": [
    "wranglell = df[df.cohort_id == 24]\n",
    "len(wranglell.user_id.unique())"
   ]
  },
  {
   "cell_type": "code",
   "execution_count": 36,
   "metadata": {},
   "outputs": [],
   "source": [
    "# 26,Xanadu,2018-09-17,2019-02-08,2\n",
    "# test = explore.cohort_id(df,2018,9,17,10)\n",
    "# test.head()"
   ]
  },
  {
   "cell_type": "markdown",
   "metadata": {},
   "source": [
    "#### Cohort Xanadu"
   ]
  },
  {
   "cell_type": "code",
   "execution_count": 35,
   "metadata": {},
   "outputs": [
    {
     "data": {
      "text/plain": [
       "26"
      ]
     },
     "execution_count": 35,
     "metadata": {},
     "output_type": "execute_result"
    }
   ],
   "source": [
    "xanadu = df[df.cohort_id == 25]\n",
    "len(xanadu.user_id.unique())"
   ]
  },
  {
   "cell_type": "code",
   "execution_count": 40,
   "metadata": {},
   "outputs": [],
   "source": [
    "# 27,Yosemite,2018-11-05,2019-04-03,2\n",
    "# test = explore.cohort_id(df,2018,11,5,10)\n",
    "# test.head(20)"
   ]
  },
  {
   "cell_type": "markdown",
   "metadata": {},
   "source": [
    "#### Cohort Yosemite"
   ]
  },
  {
   "cell_type": "code",
   "execution_count": 39,
   "metadata": {},
   "outputs": [
    {
     "data": {
      "text/plain": [
       "20"
      ]
     },
     "execution_count": 39,
     "metadata": {},
     "output_type": "execute_result"
    }
   ],
   "source": [
    "yosemite = df[df.cohort_id == 26]\n",
    "len(yosemite.user_id.unique())"
   ]
  },
  {
   "cell_type": "code",
   "execution_count": 6,
   "metadata": {},
   "outputs": [],
   "source": [
    "# 28,Staff,2014-02-04,2014-02-04,2\n",
    "\n",
    "# 29,Zion,2019-01-22,2019-06-04,2\n",
    "\n",
    "# 30,Ada,2019-02-04,2019-06-16,3\n",
    "\n",
    "# 31,Andromeda,2019-03-18,2019-07-30,2\n",
    "\n",
    "# 32,Betelgeuse,2019-05-28,2019-10-08,2\n",
    "\n",
    "# 33,Ceres,2019-07-15,2019-12-11,2\n",
    "\n",
    "# 34,Bayes,2019-08-19,2020-01-30,3\n",
    "\n",
    "# 51,Deimos,2019-09-16,2020-02-27,2\n",
    "\n",
    "# 52,Europa,2019-11-04,2020-04-17,2\n",
    "\n",
    "# 53,Fortuna,2020-01-13,2020-06-23,2\n",
    "\n",
    "# 55,Curie,2020-02-03,2020-07-07,3\n",
    "\n",
    "# 56,Apex,2020-02-24,2020-07-29,2\n",
    "\n",
    "# 57,Ganymede,2020-03-23,2020-08-20,2\n",
    "\n",
    "# 58,Hyperion,2020-05-26,2020-11-10,2\n",
    "\n",
    "# 59,Darden,2020-07-13,2021-01-12,3\n",
    "\n",
    "# 60,Io,2020-07-20,2021-01-21,2\n",
    "\n",
    "# 61,Bash,2020-07-20,2021-01-21,2\n",
    "\n",
    "# 62,Jupiter,2020-09-21,2021-03-30,2\n",
    "\n",
    "# 132,Kalypso,2020-11-02,2021-05-04,2"
   ]
  },
  {
   "cell_type": "code",
   "execution_count": null,
   "metadata": {},
   "outputs": [],
   "source": []
  }
 ],
 "metadata": {
  "kernelspec": {
   "display_name": "Python 3",
   "language": "python",
   "name": "python3"
  },
  "language_info": {
   "codemirror_mode": {
    "name": "ipython",
    "version": 3
   },
   "file_extension": ".py",
   "mimetype": "text/x-python",
   "name": "python",
   "nbconvert_exporter": "python",
   "pygments_lexer": "ipython3",
   "version": "3.8.5"
  }
 },
 "nbformat": 4,
 "nbformat_minor": 4
}
